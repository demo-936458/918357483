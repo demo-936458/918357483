{
 "cells": [
  {
   "cell_type": "code",
   "execution_count": 1,
   "metadata": {
    "ExecuteTime": {
     "end_time": "2017-10-15T12:16:50.589559Z",
     "start_time": "2017-10-15T20:16:49.270996+08:00"
    },
    "collapsed": true
   },
   "outputs": [],
   "source": [
    "import pandas as pd"
   ]
  },
  {
   "cell_type": "code",
   "execution_count": 41,
   "metadata": {
    "ExecuteTime": {
     "end_time": "2017-10-15T14:49:05.004464Z",
     "start_time": "2017-10-15T22:48:37.196493+08:00"
    }
   },
   "outputs": [],
   "source": [
    "orig_df = pd.read_csv('data/JollOrder2.csv', names=['receipt', 'product', 'qty', 'price'])\n",
    "orig_df['unit_price'] = orig_df.price.div(orig_df.qty)"
   ]
  },
  {
   "cell_type": "code",
   "execution_count": 45,
   "metadata": {
    "ExecuteTime": {
     "end_time": "2017-10-15T15:17:04.789464Z",
     "start_time": "2017-10-15T23:16:55.563637+08:00"
    }
   },
   "outputs": [],
   "source": [
    "gby = orig_df.groupby(['product'])\n",
    "product_df = gby.unit_price.unique().to_frame()\n",
    "product_df['unit_price'] = product_df.unit_price.map(lambda a: a[0])"
   ]
  },
  {
   "cell_type": "code",
   "execution_count": 46,
   "metadata": {
    "ExecuteTime": {
     "end_time": "2017-10-15T15:17:04.810091Z",
     "start_time": "2017-10-15T23:17:04.793937+08:00"
    }
   },
   "outputs": [
    {
     "data": {
      "text/html": [
       "<div>\n",
       "<style>\n",
       "    .dataframe thead tr:only-child th {\n",
       "        text-align: right;\n",
       "    }\n",
       "\n",
       "    .dataframe thead th {\n",
       "        text-align: left;\n",
       "    }\n",
       "\n",
       "    .dataframe tbody tr th {\n",
       "        vertical-align: top;\n",
       "    }\n",
       "</style>\n",
       "<table border=\"1\" class=\"dataframe\">\n",
       "  <thead>\n",
       "    <tr style=\"text-align: right;\">\n",
       "      <th></th>\n",
       "      <th>unit_price</th>\n",
       "    </tr>\n",
       "    <tr>\n",
       "      <th>product</th>\n",
       "      <th></th>\n",
       "    </tr>\n",
       "  </thead>\n",
       "  <tbody>\n",
       "    <tr>\n",
       "      <th>1pc Burger Steak</th>\n",
       "      <td>55.0</td>\n",
       "    </tr>\n",
       "    <tr>\n",
       "      <th>1pc Chickenjoy</th>\n",
       "      <td>82.0</td>\n",
       "    </tr>\n",
       "    <tr>\n",
       "      <th>1pc Chickenjoy with Jolly Spaghetti</th>\n",
       "      <td>115.0</td>\n",
       "    </tr>\n",
       "    <tr>\n",
       "      <th>2pc Burger Steak</th>\n",
       "      <td>85.0</td>\n",
       "    </tr>\n",
       "    <tr>\n",
       "      <th>2pc Chickenjoy</th>\n",
       "      <td>150.0</td>\n",
       "    </tr>\n",
       "    <tr>\n",
       "      <th>8pc Chickenjoy Bucket</th>\n",
       "      <td>475.0</td>\n",
       "    </tr>\n",
       "    <tr>\n",
       "      <th>Cheesy Classic Jolly Hotdog with Fries and Drink</th>\n",
       "      <td>90.0</td>\n",
       "    </tr>\n",
       "    <tr>\n",
       "      <th>Chickenjoy Super Meal</th>\n",
       "      <td>125.0</td>\n",
       "    </tr>\n",
       "    <tr>\n",
       "      <th>Chocolate Sundae</th>\n",
       "      <td>29.0</td>\n",
       "    </tr>\n",
       "    <tr>\n",
       "      <th>French Fries Large</th>\n",
       "      <td>55.0</td>\n",
       "    </tr>\n",
       "    <tr>\n",
       "      <th>French Fries Regular</th>\n",
       "      <td>34.0</td>\n",
       "    </tr>\n",
       "    <tr>\n",
       "      <th>Palabok</th>\n",
       "      <td>94.0</td>\n",
       "    </tr>\n",
       "    <tr>\n",
       "      <th>Peach Mango Pie</th>\n",
       "      <td>29.0</td>\n",
       "    </tr>\n",
       "    <tr>\n",
       "      <th>Yum Cheeseburger with Fries</th>\n",
       "      <td>85.0</td>\n",
       "    </tr>\n",
       "  </tbody>\n",
       "</table>\n",
       "</div>"
      ],
      "text/plain": [
       "                                                  unit_price\n",
       "product                                                     \n",
       "1pc Burger Steak                                        55.0\n",
       "1pc Chickenjoy                                          82.0\n",
       "1pc Chickenjoy with Jolly Spaghetti                    115.0\n",
       "2pc Burger Steak                                        85.0\n",
       "2pc Chickenjoy                                         150.0\n",
       "8pc Chickenjoy Bucket                                  475.0\n",
       "Cheesy Classic Jolly Hotdog with Fries and Drink        90.0\n",
       "Chickenjoy Super Meal                                  125.0\n",
       "Chocolate Sundae                                        29.0\n",
       "French Fries Large                                      55.0\n",
       "French Fries Regular                                    34.0\n",
       "Palabok                                                 94.0\n",
       "Peach Mango Pie                                         29.0\n",
       "Yum Cheeseburger with Fries                             85.0"
      ]
     },
     "execution_count": 46,
     "metadata": {},
     "output_type": "execute_result"
    }
   ],
   "source": [
    "product_df"
   ]
  },
  {
   "cell_type": "code",
   "execution_count": null,
   "metadata": {
    "collapsed": true
   },
   "outputs": [],
   "source": []
  }
 ],
 "metadata": {
  "kernelspec": {
   "display_name": "Python 3",
   "language": "python",
   "name": "python3"
  },
  "language_info": {
   "codemirror_mode": {
    "name": "ipython",
    "version": 3
   },
   "file_extension": ".py",
   "mimetype": "text/x-python",
   "name": "python",
   "nbconvert_exporter": "python",
   "pygments_lexer": "ipython3",
   "version": "3.6.1"
  },
  "toc": {
   "nav_menu": {},
   "number_sections": true,
   "sideBar": true,
   "skip_h1_title": false,
   "toc_cell": false,
   "toc_position": {},
   "toc_section_display": "block",
   "toc_window_display": false
  }
 },
 "nbformat": 4,
 "nbformat_minor": 2
}
