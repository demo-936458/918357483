{
 "cells": [
  {
   "cell_type": "code",
   "execution_count": 52,
   "metadata": {
    "ExecuteTime": {
     "end_time": "2017-10-16T07:12:00.694385Z",
     "start_time": "2017-10-16T15:12:00.690252+08:00"
    },
    "collapsed": true
   },
   "outputs": [],
   "source": [
    "import pandas as pd\n",
    "import random\n",
    "from numpy.random import choice as npchoice\n",
    "import numpy as np"
   ]
  },
  {
   "cell_type": "code",
   "execution_count": 35,
   "metadata": {
    "ExecuteTime": {
     "end_time": "2017-10-16T06:28:16.337131Z",
     "start_time": "2017-10-16T14:28:16.329012+08:00"
    },
    "collapsed": true
   },
   "outputs": [],
   "source": [
    "p_chkrice = \"1 pc chicken w/rice\"\n",
    "p_2chkrice = \"2 pcs chicken w/rice\"\n",
    "p_chkspag = \"1 pc chicken w/spaghetti\"\n",
    "p_chkfries = \"1 pc chicken w/fries\"\n",
    "p_chkpalabok = \"1 pc chicken w/palabok\"\n",
    "p_palabok = \"palabok\"\n",
    "p_spag = \"spaghetti\"\n",
    "p_hotdog = \"jolly hotdog\"\n",
    "p_brgrsteak = \"1 pc. burger steak\"\n",
    "p_bigbrgrsteak = \"Burger Steak Supreme\"\n",
    "p_fries = \"fries\"\n",
    "p_coke = \"coca-cola\"\n",
    "p_sprite = \"sprite\"\n",
    "p_icedtea = \"iced tea\"\n",
    "p_water = \"water\"\n",
    "p_shanghairolls = \"5 pc. shanghai rolls w/rice\"\n",
    "p_pineapple = \"pineapple juice\"\n",
    "p_pmpie = \"peach mango pie\""
   ]
  },
  {
   "cell_type": "code",
   "execution_count": 36,
   "metadata": {
    "ExecuteTime": {
     "end_time": "2017-10-16T06:28:39.869570Z",
     "start_time": "2017-10-16T14:28:39.782956+08:00"
    }
   },
   "outputs": [],
   "source": [
    "behavior_ena = [\n",
    "    {\n",
    "        \"chance\": 40,\n",
    "        \"items\": [\n",
    "            [{\"prod\": p_chkspag, \"chance\": 100}],\n",
    "            [{\"prod\": p_coke, \"chance\": 100}],\n",
    "        ]\n",
    "    },\n",
    "    {\n",
    "        \"chance\": 50,\n",
    "        \"items\": [\n",
    "            [{\"prod\": p_chkrice, \"chance\": 100}],\n",
    "        ]\n",
    "    },\n",
    "    {\n",
    "        \"chance\": 10,\n",
    "        \"items\": [\n",
    "            [{\"prod\": p_spag, \"chance\": 100}],\n",
    "            [{\"prod\": p_pmpie, \"chance\": 100}],\n",
    "        ]\n",
    "    },\n",
    "]\n",
    "\n",
    "behavior_gil = [\n",
    "    {\n",
    "        \"chance\": 45,\n",
    "        \"items\": [\n",
    "            [{\"prod\": p_chkspag, \"chance\": 100}],\n",
    "            [{\"prod\": p_shanghairolls, \"chance\": 100}],\n",
    "            [{\"prod\": p_water, \"chance\": 100}]\n",
    "        ]\n",
    "    },\n",
    "    {\n",
    "        \"chance\": 35,\n",
    "        \"items\": [\n",
    "            [{\"prod\": p_chkspag, \"chance\": 100}],\n",
    "            [{\"prod\": p_water, \"chance\": 100}]\n",
    "        ]\n",
    "    },\n",
    "    {\n",
    "        \"chance\": 20,\n",
    "        \"items\": [\n",
    "            [{\"prod\": p_hotdog, \"chance\": 100}],\n",
    "            [{\"prod\": p_water, \"chance\": 100}]\n",
    "        ]\n",
    "    },\n",
    "]\n",
    "\n",
    "behavior_marksteve = [\n",
    "    {\n",
    "        \"chance\": 70,\n",
    "        \"items\": [\n",
    "            [{\"prod\": p_2chkrice, \"chance\": 100}],\n",
    "            [{\"prod\": p_pmpie, \"chance\": 100}],\n",
    "            [{\"prod\": p_pineapple, \"chance\": 90}, {\"prod\": p_coke, \"chance\": 10}]\n",
    "        ]\n",
    "    },\n",
    "    {\n",
    "        \"chance\": 30,\n",
    "        \"items\": [\n",
    "            [{\"prod\": p_brgrsteak, \"chance\": 100}],\n",
    "            [{\"prod\": p_shanghairolls, \"chance\": 100}],\n",
    "            [{\"prod\": p_pineapple, \"chance\": 90}, {\"prod\": p_coke, \"chance\": 10}]\n",
    "        ]\n",
    "    }\n",
    "]\n",
    "\n",
    "behavior_iman = [\n",
    "    {\n",
    "        \"chance\": 70,\n",
    "        \"items\": [\n",
    "            [{\"prod\": p_chkspag, \"chance\": 100}],\n",
    "            [{\"prod\": p_fries, \"chance\": 100}],\n",
    "            [{\"prod\": p_icedtea, \"chance\": 90}, {\"prod\": p_coke, \"chance\": 10}]\n",
    "        ]\n",
    "    },\n",
    "    {\n",
    "        \"chance\": 30,\n",
    "        \"items\": [\n",
    "            [{\"prod\": p_hotdog, \"chance\": 100}],\n",
    "            [{\"prod\": p_icedtea, \"chance\": 90}, {\"prod\": p_coke, \"chance\": 10}]\n",
    "        ]\n",
    "    }\n",
    "]\n",
    "\n",
    "behavior_justin = [\n",
    "    {\n",
    "        \"chance\": 70,\n",
    "        \"items\": [\n",
    "            [{\"prod\": p_chkfries, \"chance\": 100}],\n",
    "            [{\"prod\": p_brgrsteak, \"chance\": 100}],\n",
    "            [{\"prod\": p_coke, \"chance\": 95}, {\"prod\": p_sprite, \"chance\": 5}],\n",
    "            [{\"prod\": p_coke, \"chance\": 95}, {\"prod\": p_sprite, \"chance\": 5}],\n",
    "        ]\n",
    "    },\n",
    "    {\n",
    "        \"chance\": 30,\n",
    "        \"items\": [\n",
    "            [{\"prod\": p_bigbrgrsteak, \"chance\": 100}],\n",
    "            [{\"prod\": p_coke, \"chance\": 90}, {\"prod\": p_sprite, \"chance\": 10}],\n",
    "        ]\n",
    "    },\n",
    "]\n",
    "\n",
    "behavior_bianca = [\n",
    "    {\n",
    "        \"chance\": 50,\n",
    "        \"items\": [\n",
    "            [{\"prod\": p_brgrsteak, \"chance\": 100}],\n",
    "            [{\"prod\": p_water, \"chance\": 100}],\n",
    "        ]\n",
    "    },\n",
    "    {\n",
    "        \"chance\": 30,\n",
    "        \"items\": [\n",
    "            [{\"prod\": p_chkspag, \"chance\": 100}],\n",
    "            [{\"prod\": p_water, \"chance\": 100}],\n",
    "        ]\n",
    "    },\n",
    "    {\n",
    "        \"chance\": 20,\n",
    "        \"items\": [\n",
    "            [{\"prod\": p_shanghairolls, \"chance\": 100}],\n",
    "            [{\"prod\": p_water, \"chance\": 100}],\n",
    "        ]\n",
    "    },\n",
    "]\n",
    "\n",
    "behavior_jose = [\n",
    "    {\n",
    "        \"chance\": 20,\n",
    "        \"items\": [\n",
    "            [{\"prod\": p_chkpalabok, \"chance\": 100}],\n",
    "            [{\"prod\": p_icedtea, \"chance\": 95}, {\"prod\": p_coke, \"chance\": 5}],\n",
    "        ]\n",
    "    },\n",
    "    {\n",
    "        \"chance\": 50,\n",
    "        \"items\": [\n",
    "            [{\"prod\": p_palabok, \"chance\": 100}],\n",
    "            [{\"prod\": p_icedtea, \"chance\": 95}, {\"prod\": p_coke, \"chance\": 5}],\n",
    "        ]\n",
    "    },\n",
    "    {\n",
    "        \"chance\": 30,\n",
    "        \"items\": [\n",
    "            [{\"prod\": p_2chkrice, \"chance\": 100}],\n",
    "            [{\"prod\": p_icedtea, \"chance\": 95}, {\"prod\": p_coke, \"chance\": 5}],\n",
    "        ]\n",
    "    },\n",
    "]"
   ]
  },
  {
   "cell_type": "code",
   "execution_count": 75,
   "metadata": {
    "ExecuteTime": {
     "end_time": "2017-10-16T08:20:34.877836Z",
     "start_time": "2017-10-16T16:20:34.875093+08:00"
    }
   },
   "outputs": [],
   "source": [
    "behaviors = [behavior_bianca, behavior_ena, behavior_gil, behavior_iman, behavior_jose, behavior_justin, behavior_marksteve]"
   ]
  },
  {
   "cell_type": "code",
   "execution_count": 78,
   "metadata": {
    "ExecuteTime": {
     "end_time": "2017-10-16T08:31:54.899618Z",
     "start_time": "2017-10-16T16:31:54.890770+08:00"
    },
    "collapsed": true
   },
   "outputs": [],
   "source": [
    "def get_persons_order(person):\n",
    "    items = npchoice(person, 1, p=list(map(lambda order: order['chance']/100, person)))[0]['items']\n",
    "    order = []\n",
    "    for item_possibilities in items:\n",
    "        item = npchoice(item_possibilities, 1, p=list(map(lambda poss: poss['chance']/100, item_possibilities)))[0]\n",
    "        order.append(item['prod'])\n",
    "    return order"
   ]
  },
  {
   "cell_type": "code",
   "execution_count": 117,
   "metadata": {
    "ExecuteTime": {
     "end_time": "2017-10-16T09:44:42.454059Z",
     "start_time": "2017-10-16T17:44:41.585221+08:00"
    }
   },
   "outputs": [
    {
     "name": "stdout",
     "output_type": "stream",
     "text": [
      "All orders generated!\n"
     ]
    }
   ],
   "source": [
    "NUM_GROUPS = 1000\n",
    "# index: no. of people in group, value: weight\n",
    "GROUP_SIZE_WEIGHTS = [0, 0.2, 0.4, 0.13, 0.12, 0.05, 0.04, 0.03, 0.02, 0.01]\n",
    "all_orders = []\n",
    "for i in range(NUM_GROUPS):\n",
    "    group_size = npchoice(range(len(GROUP_SIZE_WEIGHTS)), 10000, p=GROUP_SIZE_WEIGHTS)[0]\n",
    "    people = random.choices(behaviors, k=group_size)\n",
    "    orders = []\n",
    "    for person in people:\n",
    "        orders.extend(get_persons_order(person))\n",
    "    for j in orders:\n",
    "        all_orders.append({'receipt': i, 'name': j})\n",
    "print('All orders generated!')"
   ]
  },
  {
   "cell_type": "code",
   "execution_count": 121,
   "metadata": {
    "ExecuteTime": {
     "end_time": "2017-10-16T09:45:25.488226Z",
     "start_time": "2017-10-16T17:45:25.473240+08:00"
    }
   },
   "outputs": [
    {
     "data": {
      "text/html": [
       "<div>\n",
       "<style>\n",
       "    .dataframe thead tr:only-child th {\n",
       "        text-align: right;\n",
       "    }\n",
       "\n",
       "    .dataframe thead th {\n",
       "        text-align: left;\n",
       "    }\n",
       "\n",
       "    .dataframe tbody tr th {\n",
       "        vertical-align: top;\n",
       "    }\n",
       "</style>\n",
       "<table border=\"1\" class=\"dataframe\">\n",
       "  <thead>\n",
       "    <tr style=\"text-align: right;\">\n",
       "      <th></th>\n",
       "      <th>receipt</th>\n",
       "      <th>name</th>\n",
       "    </tr>\n",
       "  </thead>\n",
       "  <tbody>\n",
       "    <tr>\n",
       "      <th>0</th>\n",
       "      <td>0</td>\n",
       "      <td>1 pc chicken w/fries</td>\n",
       "    </tr>\n",
       "    <tr>\n",
       "      <th>1</th>\n",
       "      <td>0</td>\n",
       "      <td>1 pc. burger steak</td>\n",
       "    </tr>\n",
       "    <tr>\n",
       "      <th>2</th>\n",
       "      <td>0</td>\n",
       "      <td>coca-cola</td>\n",
       "    </tr>\n",
       "    <tr>\n",
       "      <th>3</th>\n",
       "      <td>0</td>\n",
       "      <td>coca-cola</td>\n",
       "    </tr>\n",
       "    <tr>\n",
       "      <th>4</th>\n",
       "      <td>0</td>\n",
       "      <td>1 pc. burger steak</td>\n",
       "    </tr>\n",
       "    <tr>\n",
       "      <th>5</th>\n",
       "      <td>0</td>\n",
       "      <td>5 pc. shanghai rolls w/rice</td>\n",
       "    </tr>\n",
       "    <tr>\n",
       "      <th>6</th>\n",
       "      <td>0</td>\n",
       "      <td>pineapple juice</td>\n",
       "    </tr>\n",
       "    <tr>\n",
       "      <th>7</th>\n",
       "      <td>1</td>\n",
       "      <td>1 pc chicken w/spaghetti</td>\n",
       "    </tr>\n",
       "    <tr>\n",
       "      <th>8</th>\n",
       "      <td>1</td>\n",
       "      <td>water</td>\n",
       "    </tr>\n",
       "    <tr>\n",
       "      <th>9</th>\n",
       "      <td>2</td>\n",
       "      <td>jolly hotdog</td>\n",
       "    </tr>\n",
       "  </tbody>\n",
       "</table>\n",
       "</div>"
      ],
      "text/plain": [
       "   receipt                         name\n",
       "0        0         1 pc chicken w/fries\n",
       "1        0           1 pc. burger steak\n",
       "2        0                    coca-cola\n",
       "3        0                    coca-cola\n",
       "4        0           1 pc. burger steak\n",
       "5        0  5 pc. shanghai rolls w/rice\n",
       "6        0              pineapple juice\n",
       "7        1     1 pc chicken w/spaghetti\n",
       "8        1                        water\n",
       "9        2                 jolly hotdog"
      ]
     },
     "execution_count": 121,
     "metadata": {},
     "output_type": "execute_result"
    }
   ],
   "source": [
    "orders_df = pd.DataFrame(all_orders, columns=['receipt', 'name'])\n",
    "orders_df.head(10)"
   ]
  },
  {
   "cell_type": "code",
   "execution_count": 122,
   "metadata": {
    "ExecuteTime": {
     "end_time": "2017-10-16T09:45:51.797684Z",
     "start_time": "2017-10-16T17:45:51.777820+08:00"
    },
    "collapsed": true
   },
   "outputs": [],
   "source": [
    "orders_df.to_csv('data/orders_generated.csv')"
   ]
  },
  {
   "cell_type": "code",
   "execution_count": null,
   "metadata": {
    "collapsed": true
   },
   "outputs": [],
   "source": []
  }
 ],
 "metadata": {
  "kernelspec": {
   "display_name": "Python 3",
   "language": "python",
   "name": "python3"
  },
  "language_info": {
   "codemirror_mode": {
    "name": "ipython",
    "version": 3
   },
   "file_extension": ".py",
   "mimetype": "text/x-python",
   "name": "python",
   "nbconvert_exporter": "python",
   "pygments_lexer": "ipython3",
   "version": "3.6.1"
  },
  "toc": {
   "nav_menu": {},
   "number_sections": true,
   "sideBar": true,
   "skip_h1_title": false,
   "toc_cell": false,
   "toc_position": {},
   "toc_section_display": "block",
   "toc_window_display": false
  }
 },
 "nbformat": 4,
 "nbformat_minor": 2
}
