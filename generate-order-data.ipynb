{
 "cells": [
  {
   "cell_type": "code",
   "execution_count": 1,
   "metadata": {
    "ExecuteTime": {
     "end_time": "2017-10-19T06:13:22.382656Z",
     "start_time": "2017-10-19T14:13:21.670253+08:00"
    },
    "collapsed": true
   },
   "outputs": [],
   "source": [
    "import pandas as pd\n",
    "import numpy as np\n",
    "\n",
    "import random\n",
    "from numpy.random import choice as npchoice\n",
    "\n",
    "import networkx as nx\n",
    "import itertools\n",
    "import json\n",
    "from IPython.display import display"
   ]
  },
  {
   "cell_type": "markdown",
   "metadata": {},
   "source": [
    "# Generate data"
   ]
  },
  {
   "cell_type": "code",
   "execution_count": 2,
   "metadata": {
    "ExecuteTime": {
     "end_time": "2017-10-19T06:13:22.386837Z",
     "start_time": "2017-10-19T14:13:22.384630+08:00"
    },
    "collapsed": true
   },
   "outputs": [],
   "source": [
    "for_jbee = True"
   ]
  },
  {
   "cell_type": "code",
   "execution_count": 3,
   "metadata": {
    "ExecuteTime": {
     "end_time": "2017-10-19T06:13:22.405221Z",
     "start_time": "2017-10-19T14:13:22.389212+08:00"
    },
    "collapsed": true
   },
   "outputs": [],
   "source": [
    "if for_jbee:\n",
    "    p_chkrice = \"1 pc chicken w/rice\"\n",
    "    p_2chkrice = \"2 pcs chicken w/rice\"\n",
    "    p_chkspag = \"1 pc chicken w/spaghetti\"\n",
    "    p_chkfries = \"1 pc chicken w/fries\"\n",
    "    p_chkpalabok = \"1 pc chicken w/palabok\"\n",
    "    p_palabok = \"palabok\"\n",
    "    p_spag = \"spaghetti\"\n",
    "    p_hotdog = \"jolly hotdog\"\n",
    "    p_brgrsteak = \"1 pc. burger steak\"\n",
    "    p_bigbrgrsteak = \"Burger Steak Supreme\"\n",
    "    p_fries = \"fries\"\n",
    "    p_coke = \"coca-cola\"\n",
    "    p_sprite = \"sprite\"\n",
    "    p_icedtea = \"iced tea\"\n",
    "    p_water = \"water\"\n",
    "    p_shanghairolls = \"5 pc. shanghai rolls w/rice\"\n",
    "    p_pineapple = \"pineapple juice\"\n",
    "    p_pmpie = \"peach mango pie\"\n",
    "else:\n",
    "    p_chkrice = \"sisig w/ rice\"\n",
    "    p_2chkrice = \"adobo w/rice\"\n",
    "    p_chkspag = \"chicken w/spaghetti\"\n",
    "    p_chkfries = \"chicken w/ side dish\"\n",
    "    p_chkpalabok = \"palabok w/ puto\"\n",
    "    p_palabok = \"palabok\"\n",
    "    p_spag = \"spaghetti\"\n",
    "    p_hotdog = \"hotdog sandwich\"\n",
    "    p_brgrsteak = \"tapsilog\"\n",
    "    p_bigbrgrsteak = \"mega tapsilog\"\n",
    "    p_fries = \"fries\"\n",
    "    p_coke = \"coke\"\n",
    "    p_sprite = \"sprite\"\n",
    "    p_icedtea = \"iced tea\"\n",
    "    p_water = \"water\"\n",
    "    p_shanghairolls = \"shanghai rolls w/ rice\"\n",
    "    p_pineapple = \"juice\"\n",
    "    p_pmpie = \"halo-halo\""
   ]
  },
  {
   "cell_type": "code",
   "execution_count": 4,
   "metadata": {
    "ExecuteTime": {
     "end_time": "2017-10-19T06:13:22.465447Z",
     "start_time": "2017-10-19T14:13:22.407082+08:00"
    },
    "collapsed": true
   },
   "outputs": [],
   "source": [
    "behavior_ena = [\n",
    "    {\n",
    "        \"chance\": 40,\n",
    "        \"items\": [\n",
    "            [{\"prod\": p_chkspag, \"chance\": 100}],\n",
    "            [{\"prod\": p_coke, \"chance\": 100}],\n",
    "        ]\n",
    "    },\n",
    "    {\n",
    "        \"chance\": 50,\n",
    "        \"items\": [\n",
    "            [{\"prod\": p_chkrice, \"chance\": 100}],\n",
    "        ]\n",
    "    },\n",
    "    {\n",
    "        \"chance\": 10,\n",
    "        \"items\": [\n",
    "            [{\"prod\": p_spag, \"chance\": 100}],\n",
    "            [{\"prod\": p_pmpie, \"chance\": 100}],\n",
    "        ]\n",
    "    },\n",
    "]\n",
    "\n",
    "behavior_gil = [\n",
    "    {\n",
    "        \"chance\": 45,\n",
    "        \"items\": [\n",
    "            [{\"prod\": p_chkspag, \"chance\": 100}],\n",
    "            [{\"prod\": p_shanghairolls, \"chance\": 100}],\n",
    "            [{\"prod\": p_water, \"chance\": 100}]\n",
    "        ]\n",
    "    },\n",
    "    {\n",
    "        \"chance\": 35,\n",
    "        \"items\": [\n",
    "            [{\"prod\": p_chkspag, \"chance\": 100}],\n",
    "            [{\"prod\": p_water, \"chance\": 100}]\n",
    "        ]\n",
    "    },\n",
    "    {\n",
    "        \"chance\": 20,\n",
    "        \"items\": [\n",
    "            [{\"prod\": p_hotdog, \"chance\": 100}],\n",
    "            [{\"prod\": p_water, \"chance\": 100}]\n",
    "        ]\n",
    "    },\n",
    "]\n",
    "\n",
    "behavior_marksteve = [\n",
    "    {\n",
    "        \"chance\": 70,\n",
    "        \"items\": [\n",
    "            [{\"prod\": p_2chkrice, \"chance\": 100}],\n",
    "            [{\"prod\": p_pmpie, \"chance\": 100}],\n",
    "            [{\"prod\": p_pineapple, \"chance\": 90}, {\"prod\": p_coke, \"chance\": 10}]\n",
    "        ]\n",
    "    },\n",
    "    {\n",
    "        \"chance\": 30,\n",
    "        \"items\": [\n",
    "            [{\"prod\": p_brgrsteak, \"chance\": 100}],\n",
    "            [{\"prod\": p_shanghairolls, \"chance\": 100}],\n",
    "            [{\"prod\": p_pineapple, \"chance\": 90}, {\"prod\": p_coke, \"chance\": 10}]\n",
    "        ]\n",
    "    }\n",
    "]\n",
    "\n",
    "behavior_iman = [\n",
    "    {\n",
    "        \"chance\": 70,\n",
    "        \"items\": [\n",
    "            [{\"prod\": p_chkspag, \"chance\": 100}],\n",
    "            [{\"prod\": p_fries, \"chance\": 100}],\n",
    "            [{\"prod\": p_icedtea, \"chance\": 90}, {\"prod\": p_coke, \"chance\": 10}]\n",
    "        ]\n",
    "    },\n",
    "    {\n",
    "        \"chance\": 30,\n",
    "        \"items\": [\n",
    "            [{\"prod\": p_hotdog, \"chance\": 100}],\n",
    "            [{\"prod\": p_icedtea, \"chance\": 90}, {\"prod\": p_coke, \"chance\": 10}]\n",
    "        ]\n",
    "    }\n",
    "]\n",
    "\n",
    "behavior_justin = [\n",
    "    {\n",
    "        \"chance\": 70,\n",
    "        \"items\": [\n",
    "            [{\"prod\": p_chkfries, \"chance\": 100}],\n",
    "            [{\"prod\": p_brgrsteak, \"chance\": 100}],\n",
    "            [{\"prod\": p_coke, \"chance\": 95}, {\"prod\": p_sprite, \"chance\": 5}],\n",
    "            [{\"prod\": p_coke, \"chance\": 95}, {\"prod\": p_sprite, \"chance\": 5}],\n",
    "        ]\n",
    "    },\n",
    "    {\n",
    "        \"chance\": 30,\n",
    "        \"items\": [\n",
    "            [{\"prod\": p_bigbrgrsteak, \"chance\": 100}],\n",
    "            [{\"prod\": p_coke, \"chance\": 90}, {\"prod\": p_sprite, \"chance\": 10}],\n",
    "        ]\n",
    "    },\n",
    "]\n",
    "\n",
    "behavior_bianca = [\n",
    "    {\n",
    "        \"chance\": 50,\n",
    "        \"items\": [\n",
    "            [{\"prod\": p_brgrsteak, \"chance\": 100}],\n",
    "            [{\"prod\": p_water, \"chance\": 100}],\n",
    "        ]\n",
    "    },\n",
    "    {\n",
    "        \"chance\": 30,\n",
    "        \"items\": [\n",
    "            [{\"prod\": p_chkspag, \"chance\": 100}],\n",
    "            [{\"prod\": p_water, \"chance\": 100}],\n",
    "        ]\n",
    "    },\n",
    "    {\n",
    "        \"chance\": 20,\n",
    "        \"items\": [\n",
    "            [{\"prod\": p_shanghairolls, \"chance\": 100}],\n",
    "            [{\"prod\": p_water, \"chance\": 100}],\n",
    "        ]\n",
    "    },\n",
    "]\n",
    "\n",
    "behavior_jose = [\n",
    "    {\n",
    "        \"chance\": 20,\n",
    "        \"items\": [\n",
    "            [{\"prod\": p_chkpalabok, \"chance\": 100}],\n",
    "            [{\"prod\": p_icedtea, \"chance\": 95}, {\"prod\": p_coke, \"chance\": 5}],\n",
    "        ]\n",
    "    },\n",
    "    {\n",
    "        \"chance\": 50,\n",
    "        \"items\": [\n",
    "            [{\"prod\": p_palabok, \"chance\": 100}],\n",
    "            [{\"prod\": p_icedtea, \"chance\": 95}, {\"prod\": p_coke, \"chance\": 5}],\n",
    "        ]\n",
    "    },\n",
    "    {\n",
    "        \"chance\": 30,\n",
    "        \"items\": [\n",
    "            [{\"prod\": p_2chkrice, \"chance\": 100}],\n",
    "            [{\"prod\": p_icedtea, \"chance\": 95}, {\"prod\": p_coke, \"chance\": 5}],\n",
    "        ]\n",
    "    },\n",
    "]"
   ]
  },
  {
   "cell_type": "code",
   "execution_count": 5,
   "metadata": {
    "ExecuteTime": {
     "end_time": "2017-10-19T06:13:22.469934Z",
     "start_time": "2017-10-19T14:13:22.467289+08:00"
    },
    "collapsed": true
   },
   "outputs": [],
   "source": [
    "behaviors = [behavior_bianca, behavior_ena, behavior_gil, behavior_iman, behavior_jose, behavior_justin, behavior_marksteve]"
   ]
  },
  {
   "cell_type": "code",
   "execution_count": 6,
   "metadata": {
    "ExecuteTime": {
     "end_time": "2017-10-19T06:13:22.476667Z",
     "start_time": "2017-10-19T14:13:22.471450+08:00"
    },
    "collapsed": true
   },
   "outputs": [],
   "source": [
    "def get_persons_order(person):\n",
    "    items = npchoice(person, 1, p=list(map(lambda order: order['chance']/100, person)))[0]['items']\n",
    "    order = []\n",
    "    for item_possibilities in items:\n",
    "        item = npchoice(item_possibilities, 1, p=list(map(lambda poss: poss['chance']/100, item_possibilities)))[0]\n",
    "        order.append(item['prod'])\n",
    "    return order"
   ]
  },
  {
   "cell_type": "code",
   "execution_count": 7,
   "metadata": {
    "ExecuteTime": {
     "end_time": "2017-10-19T06:13:49.158775Z",
     "start_time": "2017-10-19T14:13:22.478789+08:00"
    },
    "collapsed": false
   },
   "outputs": [
    {
     "name": "stdout",
     "output_type": "stream",
     "text": [
      "All orders generated!\n"
     ]
    }
   ],
   "source": [
    "multiperson_receipt = False\n",
    "NUM_GROUPS = 250000\n",
    "all_orders = []\n",
    "\n",
    "# index: no. of people in group, value: weight\n",
    "if multiperson_receipt:\n",
    "    GROUP_SIZE_WEIGHTS = [0, 0.2, 0.4, 0.13, 0.12, 0.05, 0.04, 0.03, 0.02, 0.01]\n",
    "    for i in range(NUM_GROUPS):\n",
    "        group_size = npchoice(range(len(GROUP_SIZE_WEIGHTS)), 10000, p=GROUP_SIZE_WEIGHTS)[0]\n",
    "        people = random.choices(behaviors, k=group_size)\n",
    "        orders = []\n",
    "        for person in people:\n",
    "            orders.extend(get_persons_order(person))\n",
    "        for j in orders:\n",
    "            all_orders.append({'receipt': i, 'name': j})\n",
    "    print('All orders generated!')\n",
    "else:\n",
    "    for receipt in range(NUM_GROUPS):\n",
    "        person = random.choices(behaviors, k=1)[0]\n",
    "        for item in get_persons_order(person):\n",
    "            all_orders.append({'receipt': receipt, 'name': item})\n",
    "    print('All orders generated!')"
   ]
  },
  {
   "cell_type": "code",
   "execution_count": 8,
   "metadata": {
    "ExecuteTime": {
     "end_time": "2017-10-19T06:13:49.437285Z",
     "start_time": "2017-10-19T14:13:49.160676+08:00"
    },
    "collapsed": false
   },
   "outputs": [
    {
     "data": {
      "text/html": [
       "<div>\n",
       "<style>\n",
       "    .dataframe thead tr:only-child th {\n",
       "        text-align: right;\n",
       "    }\n",
       "\n",
       "    .dataframe thead th {\n",
       "        text-align: left;\n",
       "    }\n",
       "\n",
       "    .dataframe tbody tr th {\n",
       "        vertical-align: top;\n",
       "    }\n",
       "</style>\n",
       "<table border=\"1\" class=\"dataframe\">\n",
       "  <thead>\n",
       "    <tr style=\"text-align: right;\">\n",
       "      <th></th>\n",
       "      <th>receipt</th>\n",
       "      <th>name</th>\n",
       "    </tr>\n",
       "  </thead>\n",
       "  <tbody>\n",
       "    <tr>\n",
       "      <th>0</th>\n",
       "      <td>0</td>\n",
       "      <td>1 pc chicken w/spaghetti</td>\n",
       "    </tr>\n",
       "    <tr>\n",
       "      <th>1</th>\n",
       "      <td>0</td>\n",
       "      <td>water</td>\n",
       "    </tr>\n",
       "    <tr>\n",
       "      <th>2</th>\n",
       "      <td>1</td>\n",
       "      <td>jolly hotdog</td>\n",
       "    </tr>\n",
       "    <tr>\n",
       "      <th>3</th>\n",
       "      <td>1</td>\n",
       "      <td>iced tea</td>\n",
       "    </tr>\n",
       "    <tr>\n",
       "      <th>4</th>\n",
       "      <td>2</td>\n",
       "      <td>5 pc. shanghai rolls w/rice</td>\n",
       "    </tr>\n",
       "    <tr>\n",
       "      <th>5</th>\n",
       "      <td>2</td>\n",
       "      <td>water</td>\n",
       "    </tr>\n",
       "    <tr>\n",
       "      <th>6</th>\n",
       "      <td>3</td>\n",
       "      <td>1 pc chicken w/fries</td>\n",
       "    </tr>\n",
       "    <tr>\n",
       "      <th>7</th>\n",
       "      <td>3</td>\n",
       "      <td>1 pc. burger steak</td>\n",
       "    </tr>\n",
       "    <tr>\n",
       "      <th>8</th>\n",
       "      <td>3</td>\n",
       "      <td>coca-cola</td>\n",
       "    </tr>\n",
       "    <tr>\n",
       "      <th>9</th>\n",
       "      <td>3</td>\n",
       "      <td>coca-cola</td>\n",
       "    </tr>\n",
       "  </tbody>\n",
       "</table>\n",
       "</div>"
      ],
      "text/plain": [
       "   receipt                         name\n",
       "0        0     1 pc chicken w/spaghetti\n",
       "1        0                        water\n",
       "2        1                 jolly hotdog\n",
       "3        1                     iced tea\n",
       "4        2  5 pc. shanghai rolls w/rice\n",
       "5        2                        water\n",
       "6        3         1 pc chicken w/fries\n",
       "7        3           1 pc. burger steak\n",
       "8        3                    coca-cola\n",
       "9        3                    coca-cola"
      ]
     },
     "execution_count": 8,
     "metadata": {},
     "output_type": "execute_result"
    }
   ],
   "source": [
    "orders_df = pd.DataFrame(all_orders, columns=['receipt', 'name'])\n",
    "orders_df.head(10)"
   ]
  },
  {
   "cell_type": "code",
   "execution_count": 9,
   "metadata": {
    "ExecuteTime": {
     "end_time": "2017-10-19T06:13:50.417082Z",
     "start_time": "2017-10-19T14:13:49.438953+08:00"
    },
    "collapsed": true
   },
   "outputs": [],
   "source": [
    "orders_df.to_csv('data/orders_generated.csv', index=False)"
   ]
  },
  {
   "cell_type": "code",
   "execution_count": 10,
   "metadata": {
    "ExecuteTime": {
     "end_time": "2017-10-19T06:13:50.508782Z",
     "start_time": "2017-10-19T14:13:50.419586+08:00"
    },
    "collapsed": false
   },
   "outputs": [
    {
     "data": {
      "text/plain": [
       "coca-cola                      80267\n",
       "1 pc chicken w/spaghetti       78384\n",
       "water                          70922\n",
       "iced tea                       66577\n",
       "1 pc. burger steak             53708\n",
       "2 pcs chicken w/rice           35906\n",
       "5 pc. shanghai rolls w/rice    33694\n",
       "pineapple juice                32252\n",
       "peach mango pie                28551\n",
       "fries                          25158\n",
       "1 pc chicken w/fries           24998\n",
       "1 pc chicken w/rice            17998\n",
       "jolly hotdog                   17899\n",
       "palabok                        17813\n",
       "Burger Steak Supreme           10632\n",
       "1 pc chicken w/palabok          7226\n",
       "sprite                          3546\n",
       "spaghetti                       3436\n",
       "Name: name, dtype: int64"
      ]
     },
     "execution_count": 10,
     "metadata": {},
     "output_type": "execute_result"
    }
   ],
   "source": [
    "orders_df.name.value_counts()"
   ]
  },
  {
   "cell_type": "markdown",
   "metadata": {},
   "source": [
    "# Create csv and json"
   ]
  },
  {
   "cell_type": "code",
   "execution_count": 11,
   "metadata": {
    "ExecuteTime": {
     "end_time": "2017-10-19T06:13:50.512709Z",
     "start_time": "2017-10-19T14:13:50.510461+08:00"
    },
    "collapsed": true
   },
   "outputs": [],
   "source": [
    "orders_df.columns = ['receipt', 'order']"
   ]
  },
  {
   "cell_type": "code",
   "execution_count": 12,
   "metadata": {
    "ExecuteTime": {
     "end_time": "2017-10-19T06:14:04.269576Z",
     "start_time": "2017-10-19T14:13:50.514219+08:00"
    },
    "collapsed": true
   },
   "outputs": [],
   "source": [
    "orders = orders_df.drop_duplicates().groupby('receipt')['order'].apply(list).values\n",
    "\n",
    "G = nx.Graph()\n",
    "for order in orders:\n",
    "    for pair in itertools.combinations(order, 2):\n",
    "        try:\n",
    "            G[pair[0]][pair[1]]['weight'] += 1\n",
    "        except:\n",
    "            G.add_edge(pair[0], pair[1],weight=1)"
   ]
  },
  {
   "cell_type": "code",
   "execution_count": 13,
   "metadata": {
    "ExecuteTime": {
     "end_time": "2017-10-19T06:14:04.277841Z",
     "start_time": "2017-10-19T14:14:04.271321+08:00"
    },
    "collapsed": false
   },
   "outputs": [
    {
     "data": {
      "text/html": [
       "<div>\n",
       "<style>\n",
       "    .dataframe thead tr:only-child th {\n",
       "        text-align: right;\n",
       "    }\n",
       "\n",
       "    .dataframe thead th {\n",
       "        text-align: left;\n",
       "    }\n",
       "\n",
       "    .dataframe tbody tr th {\n",
       "        vertical-align: top;\n",
       "    }\n",
       "</style>\n",
       "<table border=\"1\" class=\"dataframe\">\n",
       "  <thead>\n",
       "    <tr style=\"text-align: right;\">\n",
       "      <th></th>\n",
       "      <th>receipt</th>\n",
       "      <th>order</th>\n",
       "    </tr>\n",
       "  </thead>\n",
       "  <tbody>\n",
       "    <tr>\n",
       "      <th>0</th>\n",
       "      <td>0</td>\n",
       "      <td>1 pc chicken w/spaghetti</td>\n",
       "    </tr>\n",
       "    <tr>\n",
       "      <th>1</th>\n",
       "      <td>0</td>\n",
       "      <td>water</td>\n",
       "    </tr>\n",
       "    <tr>\n",
       "      <th>2</th>\n",
       "      <td>1</td>\n",
       "      <td>jolly hotdog</td>\n",
       "    </tr>\n",
       "    <tr>\n",
       "      <th>3</th>\n",
       "      <td>1</td>\n",
       "      <td>iced tea</td>\n",
       "    </tr>\n",
       "    <tr>\n",
       "      <th>4</th>\n",
       "      <td>2</td>\n",
       "      <td>5 pc. shanghai rolls w/rice</td>\n",
       "    </tr>\n",
       "  </tbody>\n",
       "</table>\n",
       "</div>"
      ],
      "text/plain": [
       "   receipt                        order\n",
       "0        0     1 pc chicken w/spaghetti\n",
       "1        0                        water\n",
       "2        1                 jolly hotdog\n",
       "3        1                     iced tea\n",
       "4        2  5 pc. shanghai rolls w/rice"
      ]
     },
     "execution_count": 13,
     "metadata": {},
     "output_type": "execute_result"
    }
   ],
   "source": [
    "orders_df.head()"
   ]
  },
  {
   "cell_type": "code",
   "execution_count": 14,
   "metadata": {
    "ExecuteTime": {
     "end_time": "2017-10-19T06:14:04.476536Z",
     "start_time": "2017-10-19T14:14:04.279409+08:00"
    },
    "collapsed": false
   },
   "outputs": [
    {
     "data": {
      "text/html": [
       "<div>\n",
       "<style>\n",
       "    .dataframe thead tr:only-child th {\n",
       "        text-align: right;\n",
       "    }\n",
       "\n",
       "    .dataframe thead th {\n",
       "        text-align: left;\n",
       "    }\n",
       "\n",
       "    .dataframe tbody tr th {\n",
       "        vertical-align: top;\n",
       "    }\n",
       "</style>\n",
       "<table border=\"1\" class=\"dataframe\">\n",
       "  <thead>\n",
       "    <tr style=\"text-align: right;\">\n",
       "      <th></th>\n",
       "      <th>frequency</th>\n",
       "      <th>expectation</th>\n",
       "    </tr>\n",
       "  </thead>\n",
       "  <tbody>\n",
       "    <tr>\n",
       "      <th>1 pc chicken w/spaghetti</th>\n",
       "      <td>78384</td>\n",
       "      <td>0.313536</td>\n",
       "    </tr>\n",
       "    <tr>\n",
       "      <th>water</th>\n",
       "      <td>70922</td>\n",
       "      <td>0.283688</td>\n",
       "    </tr>\n",
       "    <tr>\n",
       "      <th>jolly hotdog</th>\n",
       "      <td>17899</td>\n",
       "      <td>0.071596</td>\n",
       "    </tr>\n",
       "    <tr>\n",
       "      <th>iced tea</th>\n",
       "      <td>66577</td>\n",
       "      <td>0.266308</td>\n",
       "    </tr>\n",
       "    <tr>\n",
       "      <th>5 pc. shanghai rolls w/rice</th>\n",
       "      <td>33694</td>\n",
       "      <td>0.134776</td>\n",
       "    </tr>\n",
       "    <tr>\n",
       "      <th>1 pc chicken w/fries</th>\n",
       "      <td>24998</td>\n",
       "      <td>0.099992</td>\n",
       "    </tr>\n",
       "    <tr>\n",
       "      <th>1 pc. burger steak</th>\n",
       "      <td>53708</td>\n",
       "      <td>0.214832</td>\n",
       "    </tr>\n",
       "    <tr>\n",
       "      <th>coca-cola</th>\n",
       "      <td>57714</td>\n",
       "      <td>0.230856</td>\n",
       "    </tr>\n",
       "    <tr>\n",
       "      <th>Burger Steak Supreme</th>\n",
       "      <td>10632</td>\n",
       "      <td>0.042528</td>\n",
       "    </tr>\n",
       "    <tr>\n",
       "      <th>sprite</th>\n",
       "      <td>3479</td>\n",
       "      <td>0.013916</td>\n",
       "    </tr>\n",
       "    <tr>\n",
       "      <th>fries</th>\n",
       "      <td>25158</td>\n",
       "      <td>0.100632</td>\n",
       "    </tr>\n",
       "    <tr>\n",
       "      <th>2 pcs chicken w/rice</th>\n",
       "      <td>35906</td>\n",
       "      <td>0.143624</td>\n",
       "    </tr>\n",
       "    <tr>\n",
       "      <th>peach mango pie</th>\n",
       "      <td>28551</td>\n",
       "      <td>0.114204</td>\n",
       "    </tr>\n",
       "    <tr>\n",
       "      <th>pineapple juice</th>\n",
       "      <td>32252</td>\n",
       "      <td>0.129008</td>\n",
       "    </tr>\n",
       "    <tr>\n",
       "      <th>palabok</th>\n",
       "      <td>17813</td>\n",
       "      <td>0.071252</td>\n",
       "    </tr>\n",
       "    <tr>\n",
       "      <th>1 pc chicken w/rice</th>\n",
       "      <td>17998</td>\n",
       "      <td>0.071992</td>\n",
       "    </tr>\n",
       "    <tr>\n",
       "      <th>spaghetti</th>\n",
       "      <td>3436</td>\n",
       "      <td>0.013744</td>\n",
       "    </tr>\n",
       "    <tr>\n",
       "      <th>1 pc chicken w/palabok</th>\n",
       "      <td>7226</td>\n",
       "      <td>0.028904</td>\n",
       "    </tr>\n",
       "  </tbody>\n",
       "</table>\n",
       "</div>"
      ],
      "text/plain": [
       "                             frequency  expectation\n",
       "1 pc chicken w/spaghetti         78384     0.313536\n",
       "water                            70922     0.283688\n",
       "jolly hotdog                     17899     0.071596\n",
       "iced tea                         66577     0.266308\n",
       "5 pc. shanghai rolls w/rice      33694     0.134776\n",
       "1 pc chicken w/fries             24998     0.099992\n",
       "1 pc. burger steak               53708     0.214832\n",
       "coca-cola                        57714     0.230856\n",
       "Burger Steak Supreme             10632     0.042528\n",
       "sprite                            3479     0.013916\n",
       "fries                            25158     0.100632\n",
       "2 pcs chicken w/rice             35906     0.143624\n",
       "peach mango pie                  28551     0.114204\n",
       "pineapple juice                  32252     0.129008\n",
       "palabok                          17813     0.071252\n",
       "1 pc chicken w/rice              17998     0.071992\n",
       "spaghetti                         3436     0.013744\n",
       "1 pc chicken w/palabok            7226     0.028904"
      ]
     },
     "execution_count": 14,
     "metadata": {},
     "output_type": "execute_result"
    }
   ],
   "source": [
    "item = pd.DataFrame(index=orders_df['order'].unique())\n",
    "item['frequency'] = orders_df.drop_duplicates().order.value_counts()\n",
    "item['expectation'] = item['frequency']/len(orders_df.receipt.unique())\n",
    "item"
   ]
  },
  {
   "cell_type": "code",
   "execution_count": 22,
   "metadata": {
    "ExecuteTime": {
     "end_time": "2017-10-19T06:50:04.710922Z",
     "start_time": "2017-10-19T14:50:04.706002+08:00"
    },
    "collapsed": true
   },
   "outputs": [],
   "source": [
    "with open('viz/freqs.json', 'w') as outfile:\n",
    "    json.dump([row.to_dict() for ix, row in item.iterrows()], outfile)"
   ]
  },
  {
   "cell_type": "code",
   "execution_count": 16,
   "metadata": {
    "ExecuteTime": {
     "end_time": "2017-10-19T06:14:04.487434Z",
     "start_time": "2017-10-19T14:14:04.483482+08:00"
    },
    "collapsed": true
   },
   "outputs": [],
   "source": [
    "edges = pd.DataFrame(G.edges(data=True))\n",
    "edges.columns = ['item1', 'item2', 'weight']\n",
    "edges['weight'] = edges.weight.apply(lambda x: x['weight'])"
   ]
  },
  {
   "cell_type": "code",
   "execution_count": 17,
   "metadata": {
    "ExecuteTime": {
     "end_time": "2017-10-19T06:14:04.496307Z",
     "start_time": "2017-10-19T14:14:04.488892+08:00"
    },
    "collapsed": true
   },
   "outputs": [],
   "source": [
    "pA_pB = (edges.item1.apply(lambda x: item.loc[x, 'expectation']) * \n",
    "         edges.item2.apply(lambda x: item.loc[x, 'expectation']))\n",
    "edges['norm_weight'] = edges.weight/pA_pB\n",
    "edges['norm_weight_item1'] = edges.weight / edges.item1.apply(lambda x: item.loc[x, 'frequency'])\n",
    "edges['norm_weight_item2'] = edges.weight / edges.item2.apply(lambda x: item.loc[x, 'frequency'])"
   ]
  },
  {
   "cell_type": "code",
   "execution_count": 18,
   "metadata": {
    "ExecuteTime": {
     "end_time": "2017-10-19T06:14:04.501072Z",
     "start_time": "2017-10-19T14:14:04.498040+08:00"
    },
    "collapsed": true
   },
   "outputs": [],
   "source": [
    "edges.to_csv('data/jbee_small_network.csv', index=False)"
   ]
  },
  {
   "cell_type": "code",
   "execution_count": 23,
   "metadata": {
    "ExecuteTime": {
     "end_time": "2017-10-19T06:50:06.168897Z",
     "start_time": "2017-10-19T14:50:06.161447+08:00"
    },
    "collapsed": true
   },
   "outputs": [],
   "source": [
    "with open('viz/network.json', 'w') as outfile:\n",
    "    json.dump([row.to_dict() for ix, row in edges.iterrows()], outfile)"
   ]
  },
  {
   "cell_type": "code",
   "execution_count": null,
   "metadata": {
    "collapsed": true
   },
   "outputs": [],
   "source": []
  }
 ],
 "metadata": {
  "anaconda-cloud": {},
  "kernelspec": {
   "display_name": "Meralco PRES (pres)",
   "language": "python",
   "name": "pres"
  },
  "language_info": {
   "codemirror_mode": {
    "name": "ipython",
    "version": 3
   },
   "file_extension": ".py",
   "mimetype": "text/x-python",
   "name": "python",
   "nbconvert_exporter": "python",
   "pygments_lexer": "ipython3",
   "version": "3.6.1"
  },
  "toc": {
   "colors": {
    "hover_highlight": "#DAA520",
    "running_highlight": "#FF0000",
    "selected_highlight": "#FFD700"
   },
   "moveMenuLeft": true,
   "nav_menu": {},
   "navigate_menu": true,
   "number_sections": true,
   "sideBar": true,
   "skip_h1_title": false,
   "threshold": 4,
   "toc_cell": false,
   "toc_position": {},
   "toc_section_display": "block",
   "toc_window_display": false
  }
 },
 "nbformat": 4,
 "nbformat_minor": 2
}
