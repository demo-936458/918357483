{
 "cells": [
  {
   "cell_type": "code",
   "execution_count": 1,
   "metadata": {
    "ExecuteTime": {
     "end_time": "2017-10-19T06:06:48.931320Z",
     "start_time": "2017-10-19T14:06:48.243769+08:00"
    },
    "collapsed": true
   },
   "outputs": [],
   "source": [
    "import pandas as pd\n",
    "import numpy as np\n",
    "\n",
    "import random\n",
    "from numpy.random import choice as npchoice\n",
    "\n",
    "import networkx as nx\n",
    "import itertools\n",
    "import json\n",
    "from IPython.display import display"
   ]
  },
  {
   "cell_type": "markdown",
   "metadata": {},
   "source": [
    "# Generate data"
   ]
  },
  {
   "cell_type": "code",
   "execution_count": 2,
   "metadata": {
    "ExecuteTime": {
     "end_time": "2017-10-19T06:06:48.935505Z",
     "start_time": "2017-10-19T14:06:48.933145+08:00"
    },
    "collapsed": true
   },
   "outputs": [],
   "source": [
    "for_jbee = True"
   ]
  },
  {
   "cell_type": "code",
   "execution_count": 3,
   "metadata": {
    "ExecuteTime": {
     "end_time": "2017-10-19T06:06:48.954648Z",
     "start_time": "2017-10-19T14:06:48.937399+08:00"
    },
    "collapsed": true
   },
   "outputs": [],
   "source": [
    "if for_jbee:\n",
    "    p_chkrice = \"1 pc chicken w/rice\"\n",
    "    p_2chkrice = \"2 pcs chicken w/rice\"\n",
    "    p_chkspag = \"1 pc chicken w/spaghetti\"\n",
    "    p_chkfries = \"1 pc chicken w/fries\"\n",
    "    p_chkpalabok = \"1 pc chicken w/palabok\"\n",
    "    p_palabok = \"palabok\"\n",
    "    p_spag = \"spaghetti\"\n",
    "    p_hotdog = \"jolly hotdog\"\n",
    "    p_brgrsteak = \"1 pc. burger steak\"\n",
    "    p_bigbrgrsteak = \"Burger Steak Supreme\"\n",
    "    p_fries = \"fries\"\n",
    "    p_coke = \"coca-cola\"\n",
    "    p_sprite = \"sprite\"\n",
    "    p_icedtea = \"iced tea\"\n",
    "    p_water = \"water\"\n",
    "    p_shanghairolls = \"5 pc. shanghai rolls w/rice\"\n",
    "    p_pineapple = \"pineapple juice\"\n",
    "    p_pmpie = \"peach mango pie\"\n",
    "else:\n",
    "    p_chkrice = \"sisig w/ rice\"\n",
    "    p_2chkrice = \"adobo w/rice\"\n",
    "    p_chkspag = \"chicken w/spaghetti\"\n",
    "    p_chkfries = \"chicken w/ side dish\"\n",
    "    p_chkpalabok = \"palabok w/ puto\"\n",
    "    p_palabok = \"palabok\"\n",
    "    p_spag = \"spaghetti\"\n",
    "    p_hotdog = \"hotdog sandwich\"\n",
    "    p_brgrsteak = \"tapsilog\"\n",
    "    p_bigbrgrsteak = \"mega tapsilog\"\n",
    "    p_fries = \"fries\"\n",
    "    p_coke = \"coke\"\n",
    "    p_sprite = \"sprite\"\n",
    "    p_icedtea = \"iced tea\"\n",
    "    p_water = \"water\"\n",
    "    p_shanghairolls = \"shanghai rolls w/ rice\"\n",
    "    p_pineapple = \"juice\"\n",
    "    p_pmpie = \"halo-halo\""
   ]
  },
  {
   "cell_type": "code",
   "execution_count": 4,
   "metadata": {
    "ExecuteTime": {
     "end_time": "2017-10-19T06:06:49.011933Z",
     "start_time": "2017-10-19T14:06:48.956349+08:00"
    },
    "collapsed": true
   },
   "outputs": [],
   "source": [
    "behavior_ena = [\n",
    "    {\n",
    "        \"chance\": 40,\n",
    "        \"items\": [\n",
    "            [{\"prod\": p_chkspag, \"chance\": 100}],\n",
    "            [{\"prod\": p_coke, \"chance\": 100}],\n",
    "        ]\n",
    "    },\n",
    "    {\n",
    "        \"chance\": 50,\n",
    "        \"items\": [\n",
    "            [{\"prod\": p_chkrice, \"chance\": 100}],\n",
    "        ]\n",
    "    },\n",
    "    {\n",
    "        \"chance\": 10,\n",
    "        \"items\": [\n",
    "            [{\"prod\": p_spag, \"chance\": 100}],\n",
    "            [{\"prod\": p_pmpie, \"chance\": 100}],\n",
    "        ]\n",
    "    },\n",
    "]\n",
    "\n",
    "behavior_gil = [\n",
    "    {\n",
    "        \"chance\": 45,\n",
    "        \"items\": [\n",
    "            [{\"prod\": p_chkspag, \"chance\": 100}],\n",
    "            [{\"prod\": p_shanghairolls, \"chance\": 100}],\n",
    "            [{\"prod\": p_water, \"chance\": 100}]\n",
    "        ]\n",
    "    },\n",
    "    {\n",
    "        \"chance\": 35,\n",
    "        \"items\": [\n",
    "            [{\"prod\": p_chkspag, \"chance\": 100}],\n",
    "            [{\"prod\": p_water, \"chance\": 100}]\n",
    "        ]\n",
    "    },\n",
    "    {\n",
    "        \"chance\": 20,\n",
    "        \"items\": [\n",
    "            [{\"prod\": p_hotdog, \"chance\": 100}],\n",
    "            [{\"prod\": p_water, \"chance\": 100}]\n",
    "        ]\n",
    "    },\n",
    "]\n",
    "\n",
    "behavior_marksteve = [\n",
    "    {\n",
    "        \"chance\": 70,\n",
    "        \"items\": [\n",
    "            [{\"prod\": p_2chkrice, \"chance\": 100}],\n",
    "            [{\"prod\": p_pmpie, \"chance\": 100}],\n",
    "            [{\"prod\": p_pineapple, \"chance\": 90}, {\"prod\": p_coke, \"chance\": 10}]\n",
    "        ]\n",
    "    },\n",
    "    {\n",
    "        \"chance\": 30,\n",
    "        \"items\": [\n",
    "            [{\"prod\": p_brgrsteak, \"chance\": 100}],\n",
    "            [{\"prod\": p_shanghairolls, \"chance\": 100}],\n",
    "            [{\"prod\": p_pineapple, \"chance\": 90}, {\"prod\": p_coke, \"chance\": 10}]\n",
    "        ]\n",
    "    }\n",
    "]\n",
    "\n",
    "behavior_iman = [\n",
    "    {\n",
    "        \"chance\": 70,\n",
    "        \"items\": [\n",
    "            [{\"prod\": p_chkspag, \"chance\": 100}],\n",
    "            [{\"prod\": p_fries, \"chance\": 100}],\n",
    "            [{\"prod\": p_icedtea, \"chance\": 90}, {\"prod\": p_coke, \"chance\": 10}]\n",
    "        ]\n",
    "    },\n",
    "    {\n",
    "        \"chance\": 30,\n",
    "        \"items\": [\n",
    "            [{\"prod\": p_hotdog, \"chance\": 100}],\n",
    "            [{\"prod\": p_icedtea, \"chance\": 90}, {\"prod\": p_coke, \"chance\": 10}]\n",
    "        ]\n",
    "    }\n",
    "]\n",
    "\n",
    "behavior_justin = [\n",
    "    {\n",
    "        \"chance\": 70,\n",
    "        \"items\": [\n",
    "            [{\"prod\": p_chkfries, \"chance\": 100}],\n",
    "            [{\"prod\": p_brgrsteak, \"chance\": 100}],\n",
    "            [{\"prod\": p_coke, \"chance\": 95}, {\"prod\": p_sprite, \"chance\": 5}],\n",
    "            [{\"prod\": p_coke, \"chance\": 95}, {\"prod\": p_sprite, \"chance\": 5}],\n",
    "        ]\n",
    "    },\n",
    "    {\n",
    "        \"chance\": 30,\n",
    "        \"items\": [\n",
    "            [{\"prod\": p_bigbrgrsteak, \"chance\": 100}],\n",
    "            [{\"prod\": p_coke, \"chance\": 90}, {\"prod\": p_sprite, \"chance\": 10}],\n",
    "        ]\n",
    "    },\n",
    "]\n",
    "\n",
    "behavior_bianca = [\n",
    "    {\n",
    "        \"chance\": 50,\n",
    "        \"items\": [\n",
    "            [{\"prod\": p_brgrsteak, \"chance\": 100}],\n",
    "            [{\"prod\": p_water, \"chance\": 100}],\n",
    "        ]\n",
    "    },\n",
    "    {\n",
    "        \"chance\": 30,\n",
    "        \"items\": [\n",
    "            [{\"prod\": p_chkspag, \"chance\": 100}],\n",
    "            [{\"prod\": p_water, \"chance\": 100}],\n",
    "        ]\n",
    "    },\n",
    "    {\n",
    "        \"chance\": 20,\n",
    "        \"items\": [\n",
    "            [{\"prod\": p_shanghairolls, \"chance\": 100}],\n",
    "            [{\"prod\": p_water, \"chance\": 100}],\n",
    "        ]\n",
    "    },\n",
    "]\n",
    "\n",
    "behavior_jose = [\n",
    "    {\n",
    "        \"chance\": 20,\n",
    "        \"items\": [\n",
    "            [{\"prod\": p_chkpalabok, \"chance\": 100}],\n",
    "            [{\"prod\": p_icedtea, \"chance\": 95}, {\"prod\": p_coke, \"chance\": 5}],\n",
    "        ]\n",
    "    },\n",
    "    {\n",
    "        \"chance\": 50,\n",
    "        \"items\": [\n",
    "            [{\"prod\": p_palabok, \"chance\": 100}],\n",
    "            [{\"prod\": p_icedtea, \"chance\": 95}, {\"prod\": p_coke, \"chance\": 5}],\n",
    "        ]\n",
    "    },\n",
    "    {\n",
    "        \"chance\": 30,\n",
    "        \"items\": [\n",
    "            [{\"prod\": p_2chkrice, \"chance\": 100}],\n",
    "            [{\"prod\": p_icedtea, \"chance\": 95}, {\"prod\": p_coke, \"chance\": 5}],\n",
    "        ]\n",
    "    },\n",
    "]"
   ]
  },
  {
   "cell_type": "code",
   "execution_count": 5,
   "metadata": {
    "ExecuteTime": {
     "end_time": "2017-10-19T06:06:49.016962Z",
     "start_time": "2017-10-19T14:06:49.014172+08:00"
    },
    "collapsed": true
   },
   "outputs": [],
   "source": [
    "behaviors = [behavior_bianca, behavior_ena, behavior_gil, behavior_iman, behavior_jose, behavior_justin, behavior_marksteve]"
   ]
  },
  {
   "cell_type": "code",
   "execution_count": 6,
   "metadata": {
    "ExecuteTime": {
     "end_time": "2017-10-19T06:06:49.023171Z",
     "start_time": "2017-10-19T14:06:49.018740+08:00"
    },
    "collapsed": true
   },
   "outputs": [],
   "source": [
    "def get_persons_order(person):\n",
    "    items = npchoice(person, 1, p=list(map(lambda order: order['chance']/100, person)))[0]['items']\n",
    "    order = []\n",
    "    for item_possibilities in items:\n",
    "        item = npchoice(item_possibilities, 1, p=list(map(lambda poss: poss['chance']/100, item_possibilities)))[0]\n",
    "        order.append(item['prod'])\n",
    "    return order"
   ]
  },
  {
   "cell_type": "code",
   "execution_count": 7,
   "metadata": {
    "ExecuteTime": {
     "end_time": "2017-10-19T06:07:18.188333Z",
     "start_time": "2017-10-19T14:06:49.024939+08:00"
    },
    "collapsed": false
   },
   "outputs": [
    {
     "name": "stdout",
     "output_type": "stream",
     "text": [
      "All orders generated!\n"
     ]
    }
   ],
   "source": [
    "multiperson_receipt = False\n",
    "NUM_GROUPS = 250000\n",
    "all_orders = []\n",
    "\n",
    "# index: no. of people in group, value: weight\n",
    "if multiperson_receipt:\n",
    "    GROUP_SIZE_WEIGHTS = [0, 0.2, 0.4, 0.13, 0.12, 0.05, 0.04, 0.03, 0.02, 0.01]\n",
    "    for i in range(NUM_GROUPS):\n",
    "        group_size = npchoice(range(len(GROUP_SIZE_WEIGHTS)), 10000, p=GROUP_SIZE_WEIGHTS)[0]\n",
    "        people = random.choices(behaviors, k=group_size)\n",
    "        orders = []\n",
    "        for person in people:\n",
    "            orders.extend(get_persons_order(person))\n",
    "        for j in orders:\n",
    "            all_orders.append({'receipt': i, 'name': j})\n",
    "    print('All orders generated!')\n",
    "else:\n",
    "    for receipt in range(NUM_GROUPS):\n",
    "        person = random.choices(behaviors, k=1)[0]\n",
    "        for item in get_persons_order(person):\n",
    "            all_orders.append({'receipt': receipt, 'name': item})\n",
    "    print('All orders generated!')"
   ]
  },
  {
   "cell_type": "code",
   "execution_count": 8,
   "metadata": {
    "ExecuteTime": {
     "end_time": "2017-10-19T06:07:18.479203Z",
     "start_time": "2017-10-19T14:07:18.190505+08:00"
    },
    "collapsed": false
   },
   "outputs": [
    {
     "data": {
      "text/html": [
       "<div>\n",
       "<style>\n",
       "    .dataframe thead tr:only-child th {\n",
       "        text-align: right;\n",
       "    }\n",
       "\n",
       "    .dataframe thead th {\n",
       "        text-align: left;\n",
       "    }\n",
       "\n",
       "    .dataframe tbody tr th {\n",
       "        vertical-align: top;\n",
       "    }\n",
       "</style>\n",
       "<table border=\"1\" class=\"dataframe\">\n",
       "  <thead>\n",
       "    <tr style=\"text-align: right;\">\n",
       "      <th></th>\n",
       "      <th>receipt</th>\n",
       "      <th>name</th>\n",
       "    </tr>\n",
       "  </thead>\n",
       "  <tbody>\n",
       "    <tr>\n",
       "      <th>0</th>\n",
       "      <td>0</td>\n",
       "      <td>1 pc chicken w/spaghetti</td>\n",
       "    </tr>\n",
       "    <tr>\n",
       "      <th>1</th>\n",
       "      <td>0</td>\n",
       "      <td>5 pc. shanghai rolls w/rice</td>\n",
       "    </tr>\n",
       "    <tr>\n",
       "      <th>2</th>\n",
       "      <td>0</td>\n",
       "      <td>water</td>\n",
       "    </tr>\n",
       "    <tr>\n",
       "      <th>3</th>\n",
       "      <td>1</td>\n",
       "      <td>1 pc chicken w/rice</td>\n",
       "    </tr>\n",
       "    <tr>\n",
       "      <th>4</th>\n",
       "      <td>2</td>\n",
       "      <td>jolly hotdog</td>\n",
       "    </tr>\n",
       "    <tr>\n",
       "      <th>5</th>\n",
       "      <td>2</td>\n",
       "      <td>water</td>\n",
       "    </tr>\n",
       "    <tr>\n",
       "      <th>6</th>\n",
       "      <td>3</td>\n",
       "      <td>1 pc. burger steak</td>\n",
       "    </tr>\n",
       "    <tr>\n",
       "      <th>7</th>\n",
       "      <td>3</td>\n",
       "      <td>water</td>\n",
       "    </tr>\n",
       "    <tr>\n",
       "      <th>8</th>\n",
       "      <td>4</td>\n",
       "      <td>1 pc chicken w/spaghetti</td>\n",
       "    </tr>\n",
       "    <tr>\n",
       "      <th>9</th>\n",
       "      <td>4</td>\n",
       "      <td>water</td>\n",
       "    </tr>\n",
       "  </tbody>\n",
       "</table>\n",
       "</div>"
      ],
      "text/plain": [
       "   receipt                         name\n",
       "0        0     1 pc chicken w/spaghetti\n",
       "1        0  5 pc. shanghai rolls w/rice\n",
       "2        0                        water\n",
       "3        1          1 pc chicken w/rice\n",
       "4        2                 jolly hotdog\n",
       "5        2                        water\n",
       "6        3           1 pc. burger steak\n",
       "7        3                        water\n",
       "8        4     1 pc chicken w/spaghetti\n",
       "9        4                        water"
      ]
     },
     "execution_count": 8,
     "metadata": {},
     "output_type": "execute_result"
    }
   ],
   "source": [
    "orders_df = pd.DataFrame(all_orders, columns=['receipt', 'name'])\n",
    "orders_df.head(10)"
   ]
  },
  {
   "cell_type": "code",
   "execution_count": 9,
   "metadata": {
    "ExecuteTime": {
     "end_time": "2017-10-19T06:07:19.462617Z",
     "start_time": "2017-10-19T14:07:18.480971+08:00"
    },
    "collapsed": true
   },
   "outputs": [],
   "source": [
    "orders_df.to_csv('data/orders_generated.csv', index=False)"
   ]
  },
  {
   "cell_type": "code",
   "execution_count": 10,
   "metadata": {
    "ExecuteTime": {
     "end_time": "2017-10-19T06:07:19.558027Z",
     "start_time": "2017-10-19T14:07:19.464785+08:00"
    },
    "collapsed": false
   },
   "outputs": [
    {
     "data": {
      "text/plain": [
       "coca-cola                      80389\n",
       "1 pc chicken w/spaghetti       78487\n",
       "water                          71708\n",
       "iced tea                       66033\n",
       "1 pc. burger steak             53413\n",
       "2 pcs chicken w/rice           35703\n",
       "5 pc. shanghai rolls w/rice    34096\n",
       "pineapple juice                31848\n",
       "peach mango pie                28483\n",
       "1 pc chicken w/fries           24989\n",
       "fries                          24913\n",
       "jolly hotdog                   17977\n",
       "palabok                        17865\n",
       "1 pc chicken w/rice            17848\n",
       "Burger Steak Supreme           10689\n",
       "1 pc chicken w/palabok          7088\n",
       "spaghetti                       3587\n",
       "sprite                          3576\n",
       "Name: name, dtype: int64"
      ]
     },
     "execution_count": 10,
     "metadata": {},
     "output_type": "execute_result"
    }
   ],
   "source": [
    "orders_df.name.value_counts()"
   ]
  },
  {
   "cell_type": "markdown",
   "metadata": {},
   "source": [
    "# Create csv and json"
   ]
  },
  {
   "cell_type": "code",
   "execution_count": 11,
   "metadata": {
    "ExecuteTime": {
     "end_time": "2017-10-19T06:07:19.562680Z",
     "start_time": "2017-10-19T14:07:19.559792+08:00"
    },
    "collapsed": true
   },
   "outputs": [],
   "source": [
    "orders_df.columns = ['receipt', 'order']"
   ]
  },
  {
   "cell_type": "code",
   "execution_count": 12,
   "metadata": {
    "ExecuteTime": {
     "end_time": "2017-10-19T06:07:37.424301Z",
     "start_time": "2017-10-19T14:07:19.564551+08:00"
    },
    "collapsed": true
   },
   "outputs": [],
   "source": [
    "orders = orders_df.drop_duplicates().groupby('receipt')['order'].apply(list).values\n",
    "\n",
    "G = nx.Graph()\n",
    "for order in orders:\n",
    "    for pair in itertools.combinations(order, 2):\n",
    "        try:\n",
    "            G[pair[0]][pair[1]]['weight'] += 1\n",
    "        except:\n",
    "            G.add_edge(pair[0], pair[1],weight=1)"
   ]
  },
  {
   "cell_type": "code",
   "execution_count": 13,
   "metadata": {
    "ExecuteTime": {
     "end_time": "2017-10-19T06:07:37.432967Z",
     "start_time": "2017-10-19T14:07:37.426220+08:00"
    },
    "collapsed": false
   },
   "outputs": [
    {
     "data": {
      "text/html": [
       "<div>\n",
       "<style>\n",
       "    .dataframe thead tr:only-child th {\n",
       "        text-align: right;\n",
       "    }\n",
       "\n",
       "    .dataframe thead th {\n",
       "        text-align: left;\n",
       "    }\n",
       "\n",
       "    .dataframe tbody tr th {\n",
       "        vertical-align: top;\n",
       "    }\n",
       "</style>\n",
       "<table border=\"1\" class=\"dataframe\">\n",
       "  <thead>\n",
       "    <tr style=\"text-align: right;\">\n",
       "      <th></th>\n",
       "      <th>receipt</th>\n",
       "      <th>order</th>\n",
       "    </tr>\n",
       "  </thead>\n",
       "  <tbody>\n",
       "    <tr>\n",
       "      <th>0</th>\n",
       "      <td>0</td>\n",
       "      <td>1 pc chicken w/spaghetti</td>\n",
       "    </tr>\n",
       "    <tr>\n",
       "      <th>1</th>\n",
       "      <td>0</td>\n",
       "      <td>5 pc. shanghai rolls w/rice</td>\n",
       "    </tr>\n",
       "    <tr>\n",
       "      <th>2</th>\n",
       "      <td>0</td>\n",
       "      <td>water</td>\n",
       "    </tr>\n",
       "    <tr>\n",
       "      <th>3</th>\n",
       "      <td>1</td>\n",
       "      <td>1 pc chicken w/rice</td>\n",
       "    </tr>\n",
       "    <tr>\n",
       "      <th>4</th>\n",
       "      <td>2</td>\n",
       "      <td>jolly hotdog</td>\n",
       "    </tr>\n",
       "  </tbody>\n",
       "</table>\n",
       "</div>"
      ],
      "text/plain": [
       "   receipt                        order\n",
       "0        0     1 pc chicken w/spaghetti\n",
       "1        0  5 pc. shanghai rolls w/rice\n",
       "2        0                        water\n",
       "3        1          1 pc chicken w/rice\n",
       "4        2                 jolly hotdog"
      ]
     },
     "execution_count": 13,
     "metadata": {},
     "output_type": "execute_result"
    }
   ],
   "source": [
    "orders_df.head()"
   ]
  },
  {
   "cell_type": "code",
   "execution_count": 14,
   "metadata": {
    "ExecuteTime": {
     "end_time": "2017-10-19T06:07:37.636394Z",
     "start_time": "2017-10-19T14:07:37.434817+08:00"
    },
    "collapsed": false
   },
   "outputs": [
    {
     "data": {
      "text/html": [
       "<div>\n",
       "<style>\n",
       "    .dataframe thead tr:only-child th {\n",
       "        text-align: right;\n",
       "    }\n",
       "\n",
       "    .dataframe thead th {\n",
       "        text-align: left;\n",
       "    }\n",
       "\n",
       "    .dataframe tbody tr th {\n",
       "        vertical-align: top;\n",
       "    }\n",
       "</style>\n",
       "<table border=\"1\" class=\"dataframe\">\n",
       "  <thead>\n",
       "    <tr style=\"text-align: right;\">\n",
       "      <th></th>\n",
       "      <th>frequency</th>\n",
       "      <th>expectation</th>\n",
       "    </tr>\n",
       "  </thead>\n",
       "  <tbody>\n",
       "    <tr>\n",
       "      <th>1 pc chicken w/spaghetti</th>\n",
       "      <td>78487</td>\n",
       "      <td>0.313948</td>\n",
       "    </tr>\n",
       "    <tr>\n",
       "      <th>5 pc. shanghai rolls w/rice</th>\n",
       "      <td>34096</td>\n",
       "      <td>0.136384</td>\n",
       "    </tr>\n",
       "    <tr>\n",
       "      <th>water</th>\n",
       "      <td>71708</td>\n",
       "      <td>0.286832</td>\n",
       "    </tr>\n",
       "    <tr>\n",
       "      <th>1 pc chicken w/rice</th>\n",
       "      <td>17848</td>\n",
       "      <td>0.071392</td>\n",
       "    </tr>\n",
       "    <tr>\n",
       "      <th>jolly hotdog</th>\n",
       "      <td>17977</td>\n",
       "      <td>0.071908</td>\n",
       "    </tr>\n",
       "    <tr>\n",
       "      <th>1 pc. burger steak</th>\n",
       "      <td>53413</td>\n",
       "      <td>0.213652</td>\n",
       "    </tr>\n",
       "    <tr>\n",
       "      <th>iced tea</th>\n",
       "      <td>66033</td>\n",
       "      <td>0.264132</td>\n",
       "    </tr>\n",
       "    <tr>\n",
       "      <th>2 pcs chicken w/rice</th>\n",
       "      <td>35703</td>\n",
       "      <td>0.142812</td>\n",
       "    </tr>\n",
       "    <tr>\n",
       "      <th>peach mango pie</th>\n",
       "      <td>28483</td>\n",
       "      <td>0.113932</td>\n",
       "    </tr>\n",
       "    <tr>\n",
       "      <th>pineapple juice</th>\n",
       "      <td>31848</td>\n",
       "      <td>0.127392</td>\n",
       "    </tr>\n",
       "    <tr>\n",
       "      <th>palabok</th>\n",
       "      <td>17865</td>\n",
       "      <td>0.071460</td>\n",
       "    </tr>\n",
       "    <tr>\n",
       "      <th>coca-cola</th>\n",
       "      <td>57831</td>\n",
       "      <td>0.231324</td>\n",
       "    </tr>\n",
       "    <tr>\n",
       "      <th>1 pc chicken w/fries</th>\n",
       "      <td>24989</td>\n",
       "      <td>0.099956</td>\n",
       "    </tr>\n",
       "    <tr>\n",
       "      <th>fries</th>\n",
       "      <td>24913</td>\n",
       "      <td>0.099652</td>\n",
       "    </tr>\n",
       "    <tr>\n",
       "      <th>1 pc chicken w/palabok</th>\n",
       "      <td>7088</td>\n",
       "      <td>0.028352</td>\n",
       "    </tr>\n",
       "    <tr>\n",
       "      <th>sprite</th>\n",
       "      <td>3514</td>\n",
       "      <td>0.014056</td>\n",
       "    </tr>\n",
       "    <tr>\n",
       "      <th>Burger Steak Supreme</th>\n",
       "      <td>10689</td>\n",
       "      <td>0.042756</td>\n",
       "    </tr>\n",
       "    <tr>\n",
       "      <th>spaghetti</th>\n",
       "      <td>3587</td>\n",
       "      <td>0.014348</td>\n",
       "    </tr>\n",
       "  </tbody>\n",
       "</table>\n",
       "</div>"
      ],
      "text/plain": [
       "                             frequency  expectation\n",
       "1 pc chicken w/spaghetti         78487     0.313948\n",
       "5 pc. shanghai rolls w/rice      34096     0.136384\n",
       "water                            71708     0.286832\n",
       "1 pc chicken w/rice              17848     0.071392\n",
       "jolly hotdog                     17977     0.071908\n",
       "1 pc. burger steak               53413     0.213652\n",
       "iced tea                         66033     0.264132\n",
       "2 pcs chicken w/rice             35703     0.142812\n",
       "peach mango pie                  28483     0.113932\n",
       "pineapple juice                  31848     0.127392\n",
       "palabok                          17865     0.071460\n",
       "coca-cola                        57831     0.231324\n",
       "1 pc chicken w/fries             24989     0.099956\n",
       "fries                            24913     0.099652\n",
       "1 pc chicken w/palabok            7088     0.028352\n",
       "sprite                            3514     0.014056\n",
       "Burger Steak Supreme             10689     0.042756\n",
       "spaghetti                         3587     0.014348"
      ]
     },
     "execution_count": 14,
     "metadata": {},
     "output_type": "execute_result"
    }
   ],
   "source": [
    "item = pd.DataFrame(index=orders_df['order'].unique())\n",
    "item['frequency'] = orders_df.drop_duplicates().order.value_counts()\n",
    "item['expectation'] = item['frequency']/len(orders_df.receipt.unique())\n",
    "item"
   ]
  },
  {
   "cell_type": "code",
   "execution_count": 15,
   "metadata": {
    "ExecuteTime": {
     "end_time": "2017-10-19T06:07:37.641908Z",
     "start_time": "2017-10-19T14:07:37.637980+08:00"
    },
    "collapsed": true
   },
   "outputs": [],
   "source": [
    "with open('viz/freqs.json', 'w') as outfile:\n",
    "    json.dump([row.to_dict() for ix, row in item.iterrows()], outfile)"
   ]
  },
  {
   "cell_type": "code",
   "execution_count": 16,
   "metadata": {
    "ExecuteTime": {
     "end_time": "2017-10-19T06:07:37.647921Z",
     "start_time": "2017-10-19T14:07:37.643514+08:00"
    },
    "collapsed": true
   },
   "outputs": [],
   "source": [
    "edges = pd.DataFrame(G.edges(data=True))\n",
    "edges.columns = ['item1', 'item2', 'weight']\n",
    "edges['weight'] = edges.weight.apply(lambda x: x['weight'])"
   ]
  },
  {
   "cell_type": "code",
   "execution_count": 17,
   "metadata": {
    "ExecuteTime": {
     "end_time": "2017-10-19T06:07:37.658535Z",
     "start_time": "2017-10-19T14:07:37.649708+08:00"
    },
    "collapsed": true
   },
   "outputs": [],
   "source": [
    "pA_pB = (edges.item1.apply(lambda x: item.loc[x, 'expectation']) * \n",
    "         edges.item2.apply(lambda x: item.loc[x, 'expectation']))\n",
    "edges['norm_weight'] = edges.weight/pA_pB\n",
    "edges['norm_weight_item1'] = edges.weight / edges.item1.apply(lambda x: item.loc[x, 'frequency'])\n",
    "edges['norm_weight_item2'] = edges.weight / edges.item2.apply(lambda x: item.loc[x, 'frequency'])"
   ]
  },
  {
   "cell_type": "code",
   "execution_count": 18,
   "metadata": {
    "ExecuteTime": {
     "end_time": "2017-10-19T06:07:37.663197Z",
     "start_time": "2017-10-19T14:07:37.660119+08:00"
    },
    "collapsed": true
   },
   "outputs": [],
   "source": [
    "edges.to_csv('data/jbee_small_network.csv', index=False)"
   ]
  },
  {
   "cell_type": "code",
   "execution_count": 19,
   "metadata": {
    "ExecuteTime": {
     "end_time": "2017-10-19T06:07:37.671548Z",
     "start_time": "2017-10-19T14:07:37.664830+08:00"
    },
    "collapsed": true
   },
   "outputs": [],
   "source": [
    "with open('viz/network.json', 'w') as outfile:\n",
    "    json.dump([row.to_dict() for ix, row in edges.iterrows()], outfile)"
   ]
  },
  {
   "cell_type": "code",
   "execution_count": null,
   "metadata": {
    "collapsed": true
   },
   "outputs": [],
   "source": []
  }
 ],
 "metadata": {
  "anaconda-cloud": {},
  "kernelspec": {
   "display_name": "Meralco PRES (pres)",
   "language": "python",
   "name": "pres"
  },
  "language_info": {
   "codemirror_mode": {
    "name": "ipython",
    "version": 3
   },
   "file_extension": ".py",
   "mimetype": "text/x-python",
   "name": "python",
   "nbconvert_exporter": "python",
   "pygments_lexer": "ipython3",
   "version": "3.6.1"
  },
  "toc": {
   "colors": {
    "hover_highlight": "#DAA520",
    "running_highlight": "#FF0000",
    "selected_highlight": "#FFD700"
   },
   "moveMenuLeft": true,
   "nav_menu": {},
   "navigate_menu": true,
   "number_sections": true,
   "sideBar": true,
   "skip_h1_title": false,
   "threshold": 4,
   "toc_cell": false,
   "toc_position": {},
   "toc_section_display": "block",
   "toc_window_display": false
  }
 },
 "nbformat": 4,
 "nbformat_minor": 2
}
