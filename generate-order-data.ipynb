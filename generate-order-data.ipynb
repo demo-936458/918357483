{
 "cells": [
  {
   "cell_type": "code",
   "execution_count": 1,
   "metadata": {
    "ExecuteTime": {
     "end_time": "2017-10-19T08:11:26.350297Z",
     "start_time": "2017-10-19T16:11:25.486179+08:00"
    },
    "collapsed": true
   },
   "outputs": [],
   "source": [
    "import pandas as pd\n",
    "import numpy as np\n",
    "\n",
    "import random\n",
    "from numpy.random import choice as npchoice\n",
    "\n",
    "import networkx as nx\n",
    "import itertools\n",
    "import json\n",
    "from IPython.display import display\n",
    "import matplotlib.pyplot as plt\n",
    "%matplotlib inline"
   ]
  },
  {
   "cell_type": "markdown",
   "metadata": {},
   "source": [
    "# Generate data"
   ]
  },
  {
   "cell_type": "code",
   "execution_count": 2,
   "metadata": {
    "ExecuteTime": {
     "end_time": "2017-10-19T08:11:26.355274Z",
     "start_time": "2017-10-19T16:11:26.352557+08:00"
    },
    "collapsed": true
   },
   "outputs": [],
   "source": [
    "for_jbee = True"
   ]
  },
  {
   "cell_type": "code",
   "execution_count": 3,
   "metadata": {
    "ExecuteTime": {
     "end_time": "2017-10-19T08:11:26.373618Z",
     "start_time": "2017-10-19T16:11:26.357477+08:00"
    },
    "collapsed": true
   },
   "outputs": [],
   "source": [
    "if for_jbee:\n",
    "    p_chkrice = \"1 pc chicken w/rice\"\n",
    "    p_2chkrice = \"2 pcs chicken w/rice\"\n",
    "    p_chkspag = \"1 pc chicken w/spaghetti\"\n",
    "    p_chkfries = \"1 pc chicken w/fries\"\n",
    "    p_chkpalabok = \"1 pc chicken w/palabok\"\n",
    "    p_palabok = \"palabok\"\n",
    "    p_spag = \"spaghetti\"\n",
    "    p_hotdog = \"jolly hotdog\"\n",
    "    p_brgrsteak = \"1 pc. burger steak\"\n",
    "    p_bigbrgrsteak = \"Burger Steak Supreme\"\n",
    "    p_fries = \"fries\"\n",
    "    p_coke = \"coca-cola\"\n",
    "    p_sprite = \"sprite\"\n",
    "    p_icedtea = \"iced tea\"\n",
    "    p_water = \"water\"\n",
    "    p_shanghairolls = \"5 pc. shanghai rolls w/rice\"\n",
    "    p_pineapple = \"pineapple juice\"\n",
    "    p_pmpie = \"peach mango pie\"\n",
    "else:\n",
    "    p_chkrice = \"sisig w/ rice\"\n",
    "    p_2chkrice = \"adobo w/rice\"\n",
    "    p_chkspag = \"chicken w/spaghetti\"\n",
    "    p_chkfries = \"chicken w/ side dish\"\n",
    "    p_chkpalabok = \"palabok w/ puto\"\n",
    "    p_palabok = \"palabok\"\n",
    "    p_spag = \"spaghetti\"\n",
    "    p_hotdog = \"hotdog sandwich\"\n",
    "    p_brgrsteak = \"tapsilog\"\n",
    "    p_bigbrgrsteak = \"mega tapsilog\"\n",
    "    p_fries = \"fries\"\n",
    "    p_coke = \"coke\"\n",
    "    p_sprite = \"sprite\"\n",
    "    p_icedtea = \"iced tea\"\n",
    "    p_water = \"water\"\n",
    "    p_shanghairolls = \"shanghai rolls w/ rice\"\n",
    "    p_pineapple = \"juice\"\n",
    "    p_pmpie = \"halo-halo\""
   ]
  },
  {
   "cell_type": "code",
   "execution_count": 4,
   "metadata": {
    "ExecuteTime": {
     "end_time": "2017-10-19T08:11:26.378056Z",
     "start_time": "2017-10-19T16:11:26.375205+08:00"
    },
    "collapsed": true
   },
   "outputs": [],
   "source": [
    "products = [p_chkrice, p_2chkrice, p_chkspag, p_chkfries, p_chkpalabok, p_palabok, p_spag, p_hotdog,\n",
    "            p_brgrsteak, p_bigbrgrsteak, p_fries, p_coke, p_sprite, p_icedtea, p_water,\n",
    "            p_shanghairolls, p_pineapple, p_pmpie]"
   ]
  },
  {
   "cell_type": "code",
   "execution_count": 81,
   "metadata": {
    "ExecuteTime": {
     "end_time": "2017-10-19T08:29:36.968832Z",
     "start_time": "2017-10-19T16:29:36.914315+08:00"
    },
    "collapsed": true
   },
   "outputs": [],
   "source": [
    "behavior_ena = [\n",
    "    {\n",
    "        \"chance\": 40,\n",
    "        \"items\": [\n",
    "            [{\"prod\": p_chkspag, \"chance\": 100}],\n",
    "            [{\"prod\": p_coke, \"chance\": 100}],\n",
    "        ]\n",
    "    },\n",
    "    {\n",
    "        \"chance\": 50,\n",
    "        \"items\": [\n",
    "            [{\"prod\": p_chkrice, \"chance\": 100}],\n",
    "        ]\n",
    "    },\n",
    "    {\n",
    "        \"chance\": 10,\n",
    "        \"items\": [\n",
    "            [{\"prod\": p_spag, \"chance\": 100}],\n",
    "            [{\"prod\": p_pmpie, \"chance\": 100}],\n",
    "        ]\n",
    "    },\n",
    "]\n",
    "\n",
    "behavior_gil = [\n",
    "    {\n",
    "        \"chance\": 45,\n",
    "        \"items\": [\n",
    "            [{\"prod\": p_chkspag, \"chance\": 100}],\n",
    "            [{\"prod\": p_shanghairolls, \"chance\": 100}],\n",
    "            [{\"prod\": p_water, \"chance\": 100}]\n",
    "        ]\n",
    "    },\n",
    "    {\n",
    "        \"chance\": 35,\n",
    "        \"items\": [\n",
    "            [{\"prod\": p_chkspag, \"chance\": 100}],\n",
    "            [{\"prod\": p_water, \"chance\": 100}]\n",
    "        ]\n",
    "    },\n",
    "    {\n",
    "        \"chance\": 20,\n",
    "        \"items\": [\n",
    "            [{\"prod\": p_hotdog, \"chance\": 100}],\n",
    "            [{\"prod\": p_water, \"chance\": 100}]\n",
    "        ]\n",
    "    },\n",
    "]\n",
    "\n",
    "behavior_marksteve = [\n",
    "    {\n",
    "        \"chance\": 70,\n",
    "        \"items\": [\n",
    "            [{\"prod\": p_2chkrice, \"chance\": 100}],\n",
    "            [{\"prod\": p_pmpie, \"chance\": 100}],\n",
    "            [{\"prod\": p_pineapple, \"chance\": 90}, {\"prod\": p_coke, \"chance\": 10}]\n",
    "        ]\n",
    "    },\n",
    "    {\n",
    "        \"chance\": 30,\n",
    "        \"items\": [\n",
    "            [{\"prod\": p_brgrsteak, \"chance\": 100}],\n",
    "            [{\"prod\": p_shanghairolls, \"chance\": 100}],\n",
    "            [{\"prod\": p_pineapple, \"chance\": 90}, {\"prod\": p_coke, \"chance\": 10}]\n",
    "        ]\n",
    "    }\n",
    "]\n",
    "\n",
    "behavior_iman = [\n",
    "    {\n",
    "        \"chance\": 70,\n",
    "        \"items\": [\n",
    "            [{\"prod\": p_chkspag, \"chance\": 100}],\n",
    "            [{\"prod\": p_fries, \"chance\": 100}],\n",
    "            [{\"prod\": p_icedtea, \"chance\": 90}, {\"prod\": p_coke, \"chance\": 10}]\n",
    "        ]\n",
    "    },\n",
    "    {\n",
    "        \"chance\": 30,\n",
    "        \"items\": [\n",
    "            [{\"prod\": p_hotdog, \"chance\": 100}],\n",
    "            [{\"prod\": p_icedtea, \"chance\": 90}, {\"prod\": p_coke, \"chance\": 10}]\n",
    "        ]\n",
    "    }\n",
    "]\n",
    "\n",
    "behavior_justin = [\n",
    "    {\n",
    "        \"chance\": 70,\n",
    "        \"items\": [\n",
    "            [{\"prod\": p_chkfries, \"chance\": 100}],\n",
    "            [{\"prod\": p_brgrsteak, \"chance\": 100}],\n",
    "            [{\"prod\": p_coke, \"chance\": 95}, {\"prod\": p_sprite, \"chance\": 5}],\n",
    "            [{\"prod\": p_coke, \"chance\": 95}, {\"prod\": p_sprite, \"chance\": 5}],\n",
    "        ]\n",
    "    },\n",
    "    {\n",
    "        \"chance\": 30,\n",
    "        \"items\": [\n",
    "            [{\"prod\": p_bigbrgrsteak, \"chance\": 100}],\n",
    "            [{\"prod\": p_coke, \"chance\": 90}, {\"prod\": p_sprite, \"chance\": 10}],\n",
    "        ]\n",
    "    },\n",
    "]\n",
    "\n",
    "behavior_bianca = [\n",
    "    {\n",
    "        \"chance\": 50,\n",
    "        \"items\": [\n",
    "            [{\"prod\": p_brgrsteak, \"chance\": 100}],\n",
    "            [{\"prod\": p_water, \"chance\": 100}],\n",
    "        ]\n",
    "    },\n",
    "    {\n",
    "        \"chance\": 30,\n",
    "        \"items\": [\n",
    "            [{\"prod\": p_chkspag, \"chance\": 100}],\n",
    "            [{\"prod\": p_water, \"chance\": 100}],\n",
    "        ]\n",
    "    },\n",
    "    {\n",
    "        \"chance\": 20,\n",
    "        \"items\": [\n",
    "            [{\"prod\": p_shanghairolls, \"chance\": 100}],\n",
    "            [{\"prod\": p_water, \"chance\": 100}],\n",
    "        ]\n",
    "    },\n",
    "]\n",
    "\n",
    "behavior_jose = [\n",
    "    {\n",
    "        \"chance\": 20,\n",
    "        \"items\": [\n",
    "            [{\"prod\": p_chkpalabok, \"chance\": 100}],\n",
    "            [{\"prod\": p_icedtea, \"chance\": 95}, {\"prod\": p_coke, \"chance\": 5}],\n",
    "        ]\n",
    "    },\n",
    "    {\n",
    "        \"chance\": 50,\n",
    "        \"items\": [\n",
    "            [{\"prod\": p_palabok, \"chance\": 100}],\n",
    "            [{\"prod\": p_icedtea, \"chance\": 95}, {\"prod\": p_coke, \"chance\": 5}],\n",
    "        ]\n",
    "    },\n",
    "    {\n",
    "        \"chance\": 30,\n",
    "        \"items\": [\n",
    "            [{\"prod\": p_2chkrice, \"chance\": 100}],\n",
    "            [{\"prod\": p_icedtea, \"chance\": 95}, {\"prod\": p_coke, \"chance\": 5}],\n",
    "        ]\n",
    "    },\n",
    "]\n",
    "\n",
    "behavior_random = lambda: [\n",
    "    {\n",
    "        \"chance\": 100,\n",
    "        \"items\": [\n",
    "            [{\"prod\": prod, \"chance\": 100*np.random.beta(8,300, size=1)[0]}] for prod in products\n",
    "        ]\n",
    "    }\n",
    "]"
   ]
  },
  {
   "cell_type": "code",
   "execution_count": 78,
   "metadata": {
    "ExecuteTime": {
     "end_time": "2017-10-19T08:28:41.874709Z",
     "start_time": "2017-10-19T16:28:41.869109+08:00"
    },
    "collapsed": false
   },
   "outputs": [],
   "source": [
    "# def return_random():\n",
    "#     return [\n",
    "#     {\n",
    "#         \"chance\": 100,\n",
    "#         \"items\": [\n",
    "#             [{\"prod\": prod, \"chance\": 100*np.random.beta(8,300, size=1)[0]}] for prod in products\n",
    "#         ]\n",
    "#     }\n",
    "# ]\n",
    "\n",
    "# behavior_random = lambda: return_random()\n",
    "# a = behavior_random()"
   ]
  },
  {
   "cell_type": "code",
   "execution_count": 86,
   "metadata": {
    "ExecuteTime": {
     "end_time": "2017-10-19T08:30:46.242084Z",
     "start_time": "2017-10-19T16:30:46.239028+08:00"
    },
    "collapsed": true
   },
   "outputs": [],
   "source": [
    "behaviors = [behavior_bianca, behavior_ena, behavior_gil, behavior_iman, behavior_jose, behavior_justin, behavior_marksteve, behavior_random]"
   ]
  },
  {
   "cell_type": "code",
   "execution_count": 87,
   "metadata": {
    "ExecuteTime": {
     "end_time": "2017-10-19T08:30:46.558793Z",
     "start_time": "2017-10-19T16:30:46.550966+08:00"
    },
    "collapsed": true
   },
   "outputs": [],
   "source": [
    "def get_persons_order(person):\n",
    "    if type(person)!= list:\n",
    "        person = person()\n",
    "    items = npchoice(person, 1, p=list(map(lambda order: order['chance']/100, person)))[0]['items']\n",
    "    order = []\n",
    "    try:\n",
    "        for item_possibilities in items:\n",
    "            item = npchoice(item_possibilities, 1, p=list(map(lambda poss: poss['chance']/100, item_possibilities)))[0]\n",
    "            order.append(item['prod'])\n",
    "    except ValueError:\n",
    "        for item_possibilities in items:\n",
    "            item = item_possibilities[0]\n",
    "            if np.random.rand() <  item['chance']:\n",
    "                order.append(item['prod'])\n",
    "    return order"
   ]
  },
  {
   "cell_type": "code",
   "execution_count": 91,
   "metadata": {
    "ExecuteTime": {
     "end_time": "2017-10-19T08:31:06.636088Z",
     "start_time": "2017-10-19T16:31:06.630917+08:00"
    },
    "collapsed": false
   },
   "outputs": [
    {
     "data": {
      "text/plain": [
       "(['1 pc chicken w/rice',\n",
       "  '2 pcs chicken w/rice',\n",
       "  '1 pc chicken w/spaghetti',\n",
       "  '1 pc chicken w/fries',\n",
       "  '1 pc chicken w/palabok',\n",
       "  'palabok',\n",
       "  'spaghetti',\n",
       "  'jolly hotdog',\n",
       "  '1 pc. burger steak',\n",
       "  'Burger Steak Supreme',\n",
       "  'fries',\n",
       "  'coca-cola',\n",
       "  'sprite',\n",
       "  'iced tea',\n",
       "  'water',\n",
       "  '5 pc. shanghai rolls w/rice',\n",
       "  'pineapple juice',\n",
       "  'peach mango pie'],\n",
       " ['1 pc chicken w/rice',\n",
       "  '2 pcs chicken w/rice',\n",
       "  '1 pc chicken w/spaghetti',\n",
       "  '1 pc chicken w/fries',\n",
       "  '1 pc chicken w/palabok',\n",
       "  'palabok',\n",
       "  'spaghetti',\n",
       "  'jolly hotdog',\n",
       "  '1 pc. burger steak',\n",
       "  'Burger Steak Supreme',\n",
       "  'fries',\n",
       "  'coca-cola',\n",
       "  'sprite',\n",
       "  'iced tea',\n",
       "  'water',\n",
       "  '5 pc. shanghai rolls w/rice',\n",
       "  'pineapple juice',\n",
       "  'peach mango pie'])"
      ]
     },
     "execution_count": 91,
     "metadata": {},
     "output_type": "execute_result"
    }
   ],
   "source": [
    "b"
   ]
  },
  {
   "cell_type": "code",
   "execution_count": 88,
   "metadata": {
    "ExecuteTime": {
     "end_time": "2017-10-19T08:30:50.336404Z",
     "start_time": "2017-10-19T16:30:47.599845+08:00"
    },
    "collapsed": false
   },
   "outputs": [
    {
     "ename": "KeyboardInterrupt",
     "evalue": "",
     "output_type": "error",
     "traceback": [
      "\u001b[0;31m---------------------------------------------------------------------------\u001b[0m",
      "\u001b[0;31mKeyboardInterrupt\u001b[0m                         Traceback (most recent call last)",
      "\u001b[0;32m<ipython-input-88-fc137ad67fef>\u001b[0m in \u001b[0;36m<module>\u001b[0;34m()\u001b[0m\n\u001b[1;32m     18\u001b[0m     \u001b[0;32mfor\u001b[0m \u001b[0mreceipt\u001b[0m \u001b[0;32min\u001b[0m \u001b[0mrange\u001b[0m\u001b[0;34m(\u001b[0m\u001b[0mNUM_GROUPS\u001b[0m\u001b[0;34m)\u001b[0m\u001b[0;34m:\u001b[0m\u001b[0;34m\u001b[0m\u001b[0m\n\u001b[1;32m     19\u001b[0m         \u001b[0mperson\u001b[0m \u001b[0;34m=\u001b[0m \u001b[0mrandom\u001b[0m\u001b[0;34m.\u001b[0m\u001b[0mchoices\u001b[0m\u001b[0;34m(\u001b[0m\u001b[0mbehaviors\u001b[0m\u001b[0;34m,\u001b[0m \u001b[0mk\u001b[0m\u001b[0;34m=\u001b[0m\u001b[0;36m1\u001b[0m\u001b[0;34m)\u001b[0m\u001b[0;34m[\u001b[0m\u001b[0;36m0\u001b[0m\u001b[0;34m]\u001b[0m\u001b[0;34m\u001b[0m\u001b[0m\n\u001b[0;32m---> 20\u001b[0;31m         \u001b[0;32mfor\u001b[0m \u001b[0mitem\u001b[0m \u001b[0;32min\u001b[0m \u001b[0mget_persons_order\u001b[0m\u001b[0;34m(\u001b[0m\u001b[0mperson\u001b[0m\u001b[0;34m)\u001b[0m\u001b[0;34m:\u001b[0m\u001b[0;34m\u001b[0m\u001b[0m\n\u001b[0m\u001b[1;32m     21\u001b[0m             \u001b[0mall_orders\u001b[0m\u001b[0;34m.\u001b[0m\u001b[0mappend\u001b[0m\u001b[0;34m(\u001b[0m\u001b[0;34m{\u001b[0m\u001b[0;34m'receipt'\u001b[0m\u001b[0;34m:\u001b[0m \u001b[0mreceipt\u001b[0m\u001b[0;34m,\u001b[0m \u001b[0;34m'name'\u001b[0m\u001b[0;34m:\u001b[0m \u001b[0mitem\u001b[0m\u001b[0;34m}\u001b[0m\u001b[0;34m)\u001b[0m\u001b[0;34m\u001b[0m\u001b[0m\n\u001b[1;32m     22\u001b[0m     \u001b[0mprint\u001b[0m\u001b[0;34m(\u001b[0m\u001b[0;34m'All orders generated!'\u001b[0m\u001b[0;34m)\u001b[0m\u001b[0;34m\u001b[0m\u001b[0m\n",
      "\u001b[0;32m<ipython-input-87-fe2dcfe2938c>\u001b[0m in \u001b[0;36mget_persons_order\u001b[0;34m(person)\u001b[0m\n\u001b[1;32m      6\u001b[0m     \u001b[0;32mtry\u001b[0m\u001b[0;34m:\u001b[0m\u001b[0;34m\u001b[0m\u001b[0m\n\u001b[1;32m      7\u001b[0m         \u001b[0;32mfor\u001b[0m \u001b[0mitem_possibilities\u001b[0m \u001b[0;32min\u001b[0m \u001b[0mitems\u001b[0m\u001b[0;34m:\u001b[0m\u001b[0;34m\u001b[0m\u001b[0m\n\u001b[0;32m----> 8\u001b[0;31m             \u001b[0mitem\u001b[0m \u001b[0;34m=\u001b[0m \u001b[0mnpchoice\u001b[0m\u001b[0;34m(\u001b[0m\u001b[0mitem_possibilities\u001b[0m\u001b[0;34m,\u001b[0m \u001b[0;36m1\u001b[0m\u001b[0;34m,\u001b[0m \u001b[0mp\u001b[0m\u001b[0;34m=\u001b[0m\u001b[0mlist\u001b[0m\u001b[0;34m(\u001b[0m\u001b[0mmap\u001b[0m\u001b[0;34m(\u001b[0m\u001b[0;32mlambda\u001b[0m \u001b[0mposs\u001b[0m\u001b[0;34m:\u001b[0m \u001b[0mposs\u001b[0m\u001b[0;34m[\u001b[0m\u001b[0;34m'chance'\u001b[0m\u001b[0;34m]\u001b[0m\u001b[0;34m/\u001b[0m\u001b[0;36m100\u001b[0m\u001b[0;34m,\u001b[0m \u001b[0mitem_possibilities\u001b[0m\u001b[0;34m)\u001b[0m\u001b[0;34m)\u001b[0m\u001b[0;34m)\u001b[0m\u001b[0;34m[\u001b[0m\u001b[0;36m0\u001b[0m\u001b[0;34m]\u001b[0m\u001b[0;34m\u001b[0m\u001b[0m\n\u001b[0m\u001b[1;32m      9\u001b[0m             \u001b[0morder\u001b[0m\u001b[0;34m.\u001b[0m\u001b[0mappend\u001b[0m\u001b[0;34m(\u001b[0m\u001b[0mitem\u001b[0m\u001b[0;34m[\u001b[0m\u001b[0;34m'prod'\u001b[0m\u001b[0;34m]\u001b[0m\u001b[0;34m)\u001b[0m\u001b[0;34m\u001b[0m\u001b[0m\n\u001b[1;32m     10\u001b[0m     \u001b[0;32mexcept\u001b[0m \u001b[0mValueError\u001b[0m\u001b[0;34m:\u001b[0m\u001b[0;34m\u001b[0m\u001b[0m\n",
      "\u001b[0;32mmtrand.pyx\u001b[0m in \u001b[0;36mmtrand.RandomState.choice (numpy/random/mtrand/mtrand.c:17833)\u001b[0;34m()\u001b[0m\n",
      "\u001b[0;32m/Users/jiah/anaconda/envs/pres/lib/python3.6/site-packages/numpy/core/fromnumeric.py\u001b[0m in \u001b[0;36mprod\u001b[0;34m(a, axis, dtype, out, keepdims)\u001b[0m\n\u001b[1;32m   2386\u001b[0m \u001b[0;34m\u001b[0m\u001b[0m\n\u001b[1;32m   2387\u001b[0m \u001b[0;34m\u001b[0m\u001b[0m\n\u001b[0;32m-> 2388\u001b[0;31m \u001b[0;32mdef\u001b[0m \u001b[0mprod\u001b[0m\u001b[0;34m(\u001b[0m\u001b[0ma\u001b[0m\u001b[0;34m,\u001b[0m \u001b[0maxis\u001b[0m\u001b[0;34m=\u001b[0m\u001b[0;32mNone\u001b[0m\u001b[0;34m,\u001b[0m \u001b[0mdtype\u001b[0m\u001b[0;34m=\u001b[0m\u001b[0;32mNone\u001b[0m\u001b[0;34m,\u001b[0m \u001b[0mout\u001b[0m\u001b[0;34m=\u001b[0m\u001b[0;32mNone\u001b[0m\u001b[0;34m,\u001b[0m \u001b[0mkeepdims\u001b[0m\u001b[0;34m=\u001b[0m\u001b[0mnp\u001b[0m\u001b[0;34m.\u001b[0m\u001b[0m_NoValue\u001b[0m\u001b[0;34m)\u001b[0m\u001b[0;34m:\u001b[0m\u001b[0;34m\u001b[0m\u001b[0m\n\u001b[0m\u001b[1;32m   2389\u001b[0m     \"\"\"\n\u001b[1;32m   2390\u001b[0m     \u001b[0mReturn\u001b[0m \u001b[0mthe\u001b[0m \u001b[0mproduct\u001b[0m \u001b[0mof\u001b[0m \u001b[0marray\u001b[0m \u001b[0melements\u001b[0m \u001b[0mover\u001b[0m \u001b[0ma\u001b[0m \u001b[0mgiven\u001b[0m \u001b[0maxis\u001b[0m\u001b[0;34m.\u001b[0m\u001b[0;34m\u001b[0m\u001b[0m\n",
      "\u001b[0;31mKeyboardInterrupt\u001b[0m: "
     ]
    }
   ],
   "source": [
    "multiperson_receipt = False\n",
    "NUM_GROUPS = 500000\n",
    "all_orders = []\n",
    "\n",
    "# index: no. of people in group, value: weight\n",
    "if multiperson_receipt:\n",
    "    GROUP_SIZE_WEIGHTS = [0, 0.2, 0.4, 0.13, 0.12, 0.05, 0.04, 0.03, 0.02, 0.01]\n",
    "    for i in range(NUM_GROUPS):\n",
    "        group_size = npchoice(range(len(GROUP_SIZE_WEIGHTS)), 10000, p=GROUP_SIZE_WEIGHTS)[0]\n",
    "        people = random.choices(behaviors, k=group_size)\n",
    "        orders = []\n",
    "        for person in people:\n",
    "            orders.extend(get_persons_order(person))\n",
    "        for j in orders:\n",
    "            all_orders.append({'receipt': i, 'name': j})\n",
    "    print('All orders generated!')\n",
    "else:\n",
    "    for receipt in range(NUM_GROUPS):\n",
    "        person = random.choices(behaviors, k=1)[0]\n",
    "        for item in get_persons_order(person):\n",
    "            all_orders.append({'receipt': receipt, 'name': item})\n",
    "    print('All orders generated!')"
   ]
  },
  {
   "cell_type": "code",
   "execution_count": 30,
   "metadata": {
    "ExecuteTime": {
     "end_time": "2017-10-19T08:16:29.036866Z",
     "start_time": "2017-10-19T16:16:29.030923+08:00"
    },
    "collapsed": false
   },
   "outputs": [
    {
     "data": {
      "text/plain": [
       "({'chance': 45,\n",
       "  'items': [[{'chance': 100, 'prod': '1 pc chicken w/spaghetti'}],\n",
       "   [{'chance': 100, 'prod': '5 pc. shanghai rolls w/rice'}],\n",
       "   [{'chance': 100, 'prod': 'water'}]]},\n",
       " {'chance': 100,\n",
       "  'items': [[[{'chance': 5.5368444520959663, 'prod': '1 pc chicken w/rice'}],\n",
       "    [{'chance': 7.6462467596923851, 'prod': '2 pcs chicken w/rice'}],\n",
       "    [{'chance': 6.9959494570228529, 'prod': '1 pc chicken w/spaghetti'}],\n",
       "    [{'chance': 4.0539472708368978, 'prod': '1 pc chicken w/fries'}],\n",
       "    [{'chance': 2.6033508331310671, 'prod': '1 pc chicken w/palabok'}],\n",
       "    [{'chance': 6.1426879758428736, 'prod': 'palabok'}],\n",
       "    [{'chance': 9.7956461394762808, 'prod': 'spaghetti'}],\n",
       "    [{'chance': 4.5440769267432675, 'prod': 'jolly hotdog'}],\n",
       "    [{'chance': 6.0564786774217794, 'prod': '1 pc. burger steak'}],\n",
       "    [{'chance': 4.5547049551465228, 'prod': 'Burger Steak Supreme'}],\n",
       "    [{'chance': 4.3805074722794473, 'prod': 'fries'}],\n",
       "    [{'chance': 4.3096024113682043, 'prod': 'coca-cola'}],\n",
       "    [{'chance': 4.5906680499979373, 'prod': 'sprite'}],\n",
       "    [{'chance': 4.7442382923602606, 'prod': 'iced tea'}],\n",
       "    [{'chance': 3.5058812678367834, 'prod': 'water'}],\n",
       "    [{'chance': 3.3583534626839233, 'prod': '5 pc. shanghai rolls w/rice'}],\n",
       "    [{'chance': 9.1138415727462281, 'prod': 'pineapple juice'}],\n",
       "    [{'chance': 5.6477667146559298, 'prod': 'peach mango pie'}]]]})"
      ]
     },
     "execution_count": 30,
     "metadata": {},
     "output_type": "execute_result"
    }
   ],
   "source": [
    "behavior_gil[0], behavior_random[0]"
   ]
  },
  {
   "cell_type": "code",
   "execution_count": 26,
   "metadata": {
    "ExecuteTime": {
     "end_time": "2017-10-19T08:15:29.493563Z",
     "start_time": "2017-10-19T16:15:29.488608+08:00"
    },
    "collapsed": false
   },
   "outputs": [
    {
     "data": {
      "text/plain": [
       "[[{'chance': 100, 'prod': 'jolly hotdog'}], [{'chance': 100, 'prod': 'water'}]]"
      ]
     },
     "execution_count": 26,
     "metadata": {},
     "output_type": "execute_result"
    }
   ],
   "source": [
    "person = behavior_gil\n",
    "npchoice(person, 1, p=list(map(lambda order: order['chance']/100, person)))[0]['items']"
   ]
  },
  {
   "cell_type": "code",
   "execution_count": 27,
   "metadata": {
    "ExecuteTime": {
     "end_time": "2017-10-19T08:16:04.365908Z",
     "start_time": "2017-10-19T16:16:04.359817+08:00"
    },
    "collapsed": false
   },
   "outputs": [
    {
     "data": {
      "text/plain": [
       "[[[{'chance': 5.5368444520959663, 'prod': '1 pc chicken w/rice'}],\n",
       "  [{'chance': 7.6462467596923851, 'prod': '2 pcs chicken w/rice'}],\n",
       "  [{'chance': 6.9959494570228529, 'prod': '1 pc chicken w/spaghetti'}],\n",
       "  [{'chance': 4.0539472708368978, 'prod': '1 pc chicken w/fries'}],\n",
       "  [{'chance': 2.6033508331310671, 'prod': '1 pc chicken w/palabok'}],\n",
       "  [{'chance': 6.1426879758428736, 'prod': 'palabok'}],\n",
       "  [{'chance': 9.7956461394762808, 'prod': 'spaghetti'}],\n",
       "  [{'chance': 4.5440769267432675, 'prod': 'jolly hotdog'}],\n",
       "  [{'chance': 6.0564786774217794, 'prod': '1 pc. burger steak'}],\n",
       "  [{'chance': 4.5547049551465228, 'prod': 'Burger Steak Supreme'}],\n",
       "  [{'chance': 4.3805074722794473, 'prod': 'fries'}],\n",
       "  [{'chance': 4.3096024113682043, 'prod': 'coca-cola'}],\n",
       "  [{'chance': 4.5906680499979373, 'prod': 'sprite'}],\n",
       "  [{'chance': 4.7442382923602606, 'prod': 'iced tea'}],\n",
       "  [{'chance': 3.5058812678367834, 'prod': 'water'}],\n",
       "  [{'chance': 3.3583534626839233, 'prod': '5 pc. shanghai rolls w/rice'}],\n",
       "  [{'chance': 9.1138415727462281, 'prod': 'pineapple juice'}],\n",
       "  [{'chance': 5.6477667146559298, 'prod': 'peach mango pie'}]]]"
      ]
     },
     "execution_count": 27,
     "metadata": {},
     "output_type": "execute_result"
    }
   ],
   "source": [
    "person = behavior_random\n",
    "npchoice(person, 1, p=list(map(lambda order: order['chance']/100, person)))[0]['items']"
   ]
  },
  {
   "cell_type": "code",
   "execution_count": 21,
   "metadata": {
    "ExecuteTime": {
     "end_time": "2017-10-19T08:14:27.257955Z",
     "start_time": "2017-10-19T16:14:27.243857+08:00"
    },
    "collapsed": false
   },
   "outputs": [
    {
     "ename": "TypeError",
     "evalue": "string indices must be integers",
     "output_type": "error",
     "traceback": [
      "\u001b[0;31m---------------------------------------------------------------------------\u001b[0m",
      "\u001b[0;31mTypeError\u001b[0m                                 Traceback (most recent call last)",
      "\u001b[0;32m<ipython-input-21-5d0fc14cd5b3>\u001b[0m in \u001b[0;36m<module>\u001b[0;34m()\u001b[0m\n\u001b[0;32m----> 1\u001b[0;31m \u001b[0mget_persons_order\u001b[0m\u001b[0;34m(\u001b[0m\u001b[0mitem\u001b[0m\u001b[0;34m)\u001b[0m\u001b[0;34m\u001b[0m\u001b[0m\n\u001b[0m",
      "\u001b[0;32m<ipython-input-13-2b109647ef4f>\u001b[0m in \u001b[0;36mget_persons_order\u001b[0;34m(person)\u001b[0m\n\u001b[1;32m      1\u001b[0m \u001b[0;32mdef\u001b[0m \u001b[0mget_persons_order\u001b[0m\u001b[0;34m(\u001b[0m\u001b[0mperson\u001b[0m\u001b[0;34m)\u001b[0m\u001b[0;34m:\u001b[0m\u001b[0;34m\u001b[0m\u001b[0m\n\u001b[0;32m----> 2\u001b[0;31m     \u001b[0mitems\u001b[0m \u001b[0;34m=\u001b[0m \u001b[0mnpchoice\u001b[0m\u001b[0;34m(\u001b[0m\u001b[0mperson\u001b[0m\u001b[0;34m,\u001b[0m \u001b[0;36m1\u001b[0m\u001b[0;34m,\u001b[0m \u001b[0mp\u001b[0m\u001b[0;34m=\u001b[0m\u001b[0mlist\u001b[0m\u001b[0;34m(\u001b[0m\u001b[0mmap\u001b[0m\u001b[0;34m(\u001b[0m\u001b[0;32mlambda\u001b[0m \u001b[0morder\u001b[0m\u001b[0;34m:\u001b[0m \u001b[0morder\u001b[0m\u001b[0;34m[\u001b[0m\u001b[0;34m'chance'\u001b[0m\u001b[0;34m]\u001b[0m\u001b[0;34m/\u001b[0m\u001b[0;36m100\u001b[0m\u001b[0;34m,\u001b[0m \u001b[0mperson\u001b[0m\u001b[0;34m)\u001b[0m\u001b[0;34m)\u001b[0m\u001b[0;34m)\u001b[0m\u001b[0;34m[\u001b[0m\u001b[0;36m0\u001b[0m\u001b[0;34m]\u001b[0m\u001b[0;34m[\u001b[0m\u001b[0;34m'items'\u001b[0m\u001b[0;34m]\u001b[0m\u001b[0;34m\u001b[0m\u001b[0m\n\u001b[0m\u001b[1;32m      3\u001b[0m     \u001b[0morder\u001b[0m \u001b[0;34m=\u001b[0m \u001b[0;34m[\u001b[0m\u001b[0;34m]\u001b[0m\u001b[0;34m\u001b[0m\u001b[0m\n\u001b[1;32m      4\u001b[0m     \u001b[0;32mfor\u001b[0m \u001b[0mitem_possibilities\u001b[0m \u001b[0;32min\u001b[0m \u001b[0mitems\u001b[0m\u001b[0;34m:\u001b[0m\u001b[0;34m\u001b[0m\u001b[0m\n\u001b[1;32m      5\u001b[0m         \u001b[0mitem\u001b[0m \u001b[0;34m=\u001b[0m \u001b[0mnpchoice\u001b[0m\u001b[0;34m(\u001b[0m\u001b[0mitem_possibilities\u001b[0m\u001b[0;34m,\u001b[0m \u001b[0;36m1\u001b[0m\u001b[0;34m,\u001b[0m \u001b[0mp\u001b[0m\u001b[0;34m=\u001b[0m\u001b[0mlist\u001b[0m\u001b[0;34m(\u001b[0m\u001b[0mmap\u001b[0m\u001b[0;34m(\u001b[0m\u001b[0;32mlambda\u001b[0m \u001b[0mposs\u001b[0m\u001b[0;34m:\u001b[0m \u001b[0mposs\u001b[0m\u001b[0;34m[\u001b[0m\u001b[0;34m'chance'\u001b[0m\u001b[0;34m]\u001b[0m\u001b[0;34m/\u001b[0m\u001b[0;36m100\u001b[0m\u001b[0;34m,\u001b[0m \u001b[0mitem_possibilities\u001b[0m\u001b[0;34m)\u001b[0m\u001b[0;34m)\u001b[0m\u001b[0;34m)\u001b[0m\u001b[0;34m[\u001b[0m\u001b[0;36m0\u001b[0m\u001b[0;34m]\u001b[0m\u001b[0;34m\u001b[0m\u001b[0m\n",
      "\u001b[0;32m<ipython-input-13-2b109647ef4f>\u001b[0m in \u001b[0;36m<lambda>\u001b[0;34m(order)\u001b[0m\n\u001b[1;32m      1\u001b[0m \u001b[0;32mdef\u001b[0m \u001b[0mget_persons_order\u001b[0m\u001b[0;34m(\u001b[0m\u001b[0mperson\u001b[0m\u001b[0;34m)\u001b[0m\u001b[0;34m:\u001b[0m\u001b[0;34m\u001b[0m\u001b[0m\n\u001b[0;32m----> 2\u001b[0;31m     \u001b[0mitems\u001b[0m \u001b[0;34m=\u001b[0m \u001b[0mnpchoice\u001b[0m\u001b[0;34m(\u001b[0m\u001b[0mperson\u001b[0m\u001b[0;34m,\u001b[0m \u001b[0;36m1\u001b[0m\u001b[0;34m,\u001b[0m \u001b[0mp\u001b[0m\u001b[0;34m=\u001b[0m\u001b[0mlist\u001b[0m\u001b[0;34m(\u001b[0m\u001b[0mmap\u001b[0m\u001b[0;34m(\u001b[0m\u001b[0;32mlambda\u001b[0m \u001b[0morder\u001b[0m\u001b[0;34m:\u001b[0m \u001b[0morder\u001b[0m\u001b[0;34m[\u001b[0m\u001b[0;34m'chance'\u001b[0m\u001b[0;34m]\u001b[0m\u001b[0;34m/\u001b[0m\u001b[0;36m100\u001b[0m\u001b[0;34m,\u001b[0m \u001b[0mperson\u001b[0m\u001b[0;34m)\u001b[0m\u001b[0;34m)\u001b[0m\u001b[0;34m)\u001b[0m\u001b[0;34m[\u001b[0m\u001b[0;36m0\u001b[0m\u001b[0;34m]\u001b[0m\u001b[0;34m[\u001b[0m\u001b[0;34m'items'\u001b[0m\u001b[0;34m]\u001b[0m\u001b[0;34m\u001b[0m\u001b[0m\n\u001b[0m\u001b[1;32m      3\u001b[0m     \u001b[0morder\u001b[0m \u001b[0;34m=\u001b[0m \u001b[0;34m[\u001b[0m\u001b[0;34m]\u001b[0m\u001b[0;34m\u001b[0m\u001b[0m\n\u001b[1;32m      4\u001b[0m     \u001b[0;32mfor\u001b[0m \u001b[0mitem_possibilities\u001b[0m \u001b[0;32min\u001b[0m \u001b[0mitems\u001b[0m\u001b[0;34m:\u001b[0m\u001b[0;34m\u001b[0m\u001b[0m\n\u001b[1;32m      5\u001b[0m         \u001b[0mitem\u001b[0m \u001b[0;34m=\u001b[0m \u001b[0mnpchoice\u001b[0m\u001b[0;34m(\u001b[0m\u001b[0mitem_possibilities\u001b[0m\u001b[0;34m,\u001b[0m \u001b[0;36m1\u001b[0m\u001b[0;34m,\u001b[0m \u001b[0mp\u001b[0m\u001b[0;34m=\u001b[0m\u001b[0mlist\u001b[0m\u001b[0;34m(\u001b[0m\u001b[0mmap\u001b[0m\u001b[0;34m(\u001b[0m\u001b[0;32mlambda\u001b[0m \u001b[0mposs\u001b[0m\u001b[0;34m:\u001b[0m \u001b[0mposs\u001b[0m\u001b[0;34m[\u001b[0m\u001b[0;34m'chance'\u001b[0m\u001b[0;34m]\u001b[0m\u001b[0;34m/\u001b[0m\u001b[0;36m100\u001b[0m\u001b[0;34m,\u001b[0m \u001b[0mitem_possibilities\u001b[0m\u001b[0;34m)\u001b[0m\u001b[0;34m)\u001b[0m\u001b[0;34m)\u001b[0m\u001b[0;34m[\u001b[0m\u001b[0;36m0\u001b[0m\u001b[0;34m]\u001b[0m\u001b[0;34m\u001b[0m\u001b[0m\n",
      "\u001b[0;31mTypeError\u001b[0m: string indices must be integers"
     ]
    }
   ],
   "source": [
    "get_persons_order(item)"
   ]
  },
  {
   "cell_type": "code",
   "execution_count": 19,
   "metadata": {
    "ExecuteTime": {
     "end_time": "2017-10-19T08:13:51.816714Z",
     "start_time": "2017-10-19T16:13:51.812963+08:00"
    },
    "collapsed": false
   },
   "outputs": [
    {
     "data": {
      "text/plain": [
       "'water'"
      ]
     },
     "execution_count": 19,
     "metadata": {},
     "output_type": "execute_result"
    }
   ],
   "source": [
    "item"
   ]
  },
  {
   "cell_type": "code",
   "execution_count": null,
   "metadata": {
    "ExecuteTime": {
     "end_time": "2017-10-19T08:11:26.632706Z",
     "start_time": "2017-10-19T08:11:25.522Z"
    },
    "collapsed": false
   },
   "outputs": [],
   "source": [
    "orders_df = pd.DataFrame(all_orders, columns=['receipt', 'name'])\n",
    "orders_df.head(10)"
   ]
  },
  {
   "cell_type": "code",
   "execution_count": null,
   "metadata": {
    "ExecuteTime": {
     "end_time": "2017-10-19T08:11:26.633080Z",
     "start_time": "2017-10-19T08:11:25.552Z"
    },
    "collapsed": true
   },
   "outputs": [],
   "source": [
    "orders_df.to_csv('data/orders_generated.csv', index=False)"
   ]
  },
  {
   "cell_type": "code",
   "execution_count": null,
   "metadata": {
    "ExecuteTime": {
     "end_time": "2017-10-19T08:11:26.633444Z",
     "start_time": "2017-10-19T08:11:25.555Z"
    },
    "collapsed": false
   },
   "outputs": [],
   "source": [
    "orders_df.name.value_counts()"
   ]
  },
  {
   "cell_type": "markdown",
   "metadata": {},
   "source": [
    "# Create csv and json"
   ]
  },
  {
   "cell_type": "code",
   "execution_count": null,
   "metadata": {
    "ExecuteTime": {
     "end_time": "2017-10-19T08:11:26.633800Z",
     "start_time": "2017-10-19T08:11:25.594Z"
    },
    "collapsed": true
   },
   "outputs": [],
   "source": [
    "orders_df.columns = ['receipt', 'order']"
   ]
  },
  {
   "cell_type": "code",
   "execution_count": null,
   "metadata": {
    "ExecuteTime": {
     "end_time": "2017-10-19T08:11:26.634135Z",
     "start_time": "2017-10-19T08:11:25.597Z"
    },
    "collapsed": true
   },
   "outputs": [],
   "source": [
    "orders = orders_df.drop_duplicates().groupby('receipt')['order'].apply(list).values\n",
    "\n",
    "G = nx.Graph()\n",
    "for order in orders.drop_duplicates():\n",
    "    for pair in itertools.combinations(order, 2):\n",
    "        try:\n",
    "            G[pair[0]][pair[1]]['weight'] += 1\n",
    "        except:\n",
    "            G.add_edge(pair[0], pair[1],weight=1)"
   ]
  },
  {
   "cell_type": "code",
   "execution_count": null,
   "metadata": {
    "ExecuteTime": {
     "end_time": "2017-10-19T08:11:26.634487Z",
     "start_time": "2017-10-19T08:11:25.601Z"
    },
    "collapsed": false
   },
   "outputs": [],
   "source": [
    "orders_df.head()"
   ]
  },
  {
   "cell_type": "code",
   "execution_count": null,
   "metadata": {
    "ExecuteTime": {
     "end_time": "2017-10-19T08:11:26.634819Z",
     "start_time": "2017-10-19T08:11:25.629Z"
    },
    "collapsed": false
   },
   "outputs": [],
   "source": [
    "item = pd.DataFrame(index=orders_df['order'].unique())\n",
    "item['frequency'] = orders_df.drop_duplicates().order.value_counts()\n",
    "item['expectation'] = item['frequency']/len(orders_df.receipt.unique())\n",
    "item = item.reset_index()\n",
    "item.columns = ['id', 'frequency', 'expectation']"
   ]
  },
  {
   "cell_type": "code",
   "execution_count": null,
   "metadata": {
    "ExecuteTime": {
     "end_time": "2017-10-19T08:11:26.635146Z",
     "start_time": "2017-10-19T08:11:25.634Z"
    },
    "collapsed": false
   },
   "outputs": [],
   "source": [
    "item"
   ]
  },
  {
   "cell_type": "code",
   "execution_count": null,
   "metadata": {
    "ExecuteTime": {
     "end_time": "2017-10-19T08:11:26.635476Z",
     "start_time": "2017-10-19T08:11:25.663Z"
    },
    "collapsed": true
   },
   "outputs": [],
   "source": [
    "with open('viz/freqs.json', 'w') as outfile:\n",
    "    json.dump([row.to_dict() for ix, row in item.iterrows()], outfile)"
   ]
  },
  {
   "cell_type": "code",
   "execution_count": null,
   "metadata": {
    "ExecuteTime": {
     "end_time": "2017-10-19T08:11:26.635804Z",
     "start_time": "2017-10-19T08:11:25.666Z"
    },
    "collapsed": true
   },
   "outputs": [],
   "source": [
    "edges = pd.DataFrame(G.edges(data=True))\n",
    "edges.columns = ['item1', 'item2', 'weight']\n",
    "edges['weight'] = edges.weight.apply(lambda x: x['weight'])"
   ]
  },
  {
   "cell_type": "code",
   "execution_count": null,
   "metadata": {
    "ExecuteTime": {
     "end_time": "2017-10-19T08:11:26.636137Z",
     "start_time": "2017-10-19T08:11:25.670Z"
    },
    "collapsed": true
   },
   "outputs": [],
   "source": [
    "pA_pB = (edges.item1.apply(lambda x: item.loc[x, 'expectation']) * \n",
    "         edges.item2.apply(lambda x: item.loc[x, 'expectation']))\n",
    "edges['norm_weight'] = edges.weight/len()/pA_pB\n",
    "edges['norm_weight_item1'] = edges.weight / edges.item1.apply(lambda x: item.loc[x, 'frequency'])\n",
    "edges['norm_weight_item2'] = edges.weight / edges.item2.apply(lambda x: item.loc[x, 'frequency'])"
   ]
  },
  {
   "cell_type": "code",
   "execution_count": null,
   "metadata": {
    "ExecuteTime": {
     "end_time": "2017-10-19T08:11:26.636478Z",
     "start_time": "2017-10-19T08:11:25.673Z"
    },
    "collapsed": true
   },
   "outputs": [],
   "source": [
    "edges.to_csv('data/jbee_small_network.csv', index=False)"
   ]
  },
  {
   "cell_type": "code",
   "execution_count": null,
   "metadata": {
    "ExecuteTime": {
     "end_time": "2017-10-19T08:11:26.636814Z",
     "start_time": "2017-10-19T08:11:25.676Z"
    },
    "collapsed": true
   },
   "outputs": [],
   "source": [
    "with open('viz/network.json', 'w') as outfile:\n",
    "    json.dump([row.to_dict() for ix, row in edges.iterrows()], outfile)"
   ]
  },
  {
   "cell_type": "code",
   "execution_count": null,
   "metadata": {
    "ExecuteTime": {
     "end_time": "2017-10-19T08:11:26.637181Z",
     "start_time": "2017-10-19T08:11:25.679Z"
    },
    "collapsed": false
   },
   "outputs": [],
   "source": [
    "[row.to_dict() for ix, row in edges.iterrows()][:2]"
   ]
  },
  {
   "cell_type": "code",
   "execution_count": null,
   "metadata": {
    "ExecuteTime": {
     "end_time": "2017-10-19T08:11:26.637541Z",
     "start_time": "2017-10-19T08:11:25.683Z"
    },
    "collapsed": false
   },
   "outputs": [],
   "source": [
    "edges.head()"
   ]
  },
  {
   "cell_type": "markdown",
   "metadata": {},
   "source": [
    "# Upsell"
   ]
  },
  {
   "cell_type": "code",
   "execution_count": null,
   "metadata": {
    "ExecuteTime": {
     "end_time": "2017-10-19T08:11:26.637878Z",
     "start_time": "2017-10-19T08:11:25.769Z"
    },
    "collapsed": false
   },
   "outputs": [],
   "source": [
    "item0 = '2 pcs chicken w/rice'\n",
    "def show_upsell(item0):\n",
    "    p1 = edges[edges.item1==item0].loc[:,['item1', 'item2', 'weight', 'norm_weight_item1']]\n",
    "    p2 = edges[edges.item2==item0].loc[:,['item2', 'item1', 'weight', 'norm_weight_item2']]\n",
    "    p1.columns = ['item', 'pair', 'weight', 'upsell']\n",
    "    p2.columns = ['item', 'pair', 'weight', 'upsell']\n",
    "    p = pd.concat([p1,p2])\n",
    "    return p\n",
    "#     display(p.sort_values('upsell', ascending=False))\n",
    "    \n",
    "upsell_df = pd.DataFrame()\n",
    "for item in orders_df.order.unique():\n",
    "    upsell_df = pd.concat([upsell_df, show_upsell(item)], axis=0)"
   ]
  },
  {
   "cell_type": "code",
   "execution_count": null,
   "metadata": {
    "ExecuteTime": {
     "end_time": "2017-10-19T08:11:26.638233Z",
     "start_time": "2017-10-19T08:11:25.774Z"
    },
    "collapsed": false
   },
   "outputs": [],
   "source": [
    "%matplotlib inline\n",
    "upsell_df.upsell.hist(bins=20)"
   ]
  },
  {
   "cell_type": "code",
   "execution_count": null,
   "metadata": {
    "ExecuteTime": {
     "end_time": "2017-10-19T08:11:26.638699Z",
     "start_time": "2017-10-19T08:11:25.777Z"
    },
    "collapsed": false
   },
   "outputs": [],
   "source": [
    "upsell_df = upsell_df[upsell_df.upsell > 0.4]"
   ]
  },
  {
   "cell_type": "code",
   "execution_count": null,
   "metadata": {
    "ExecuteTime": {
     "end_time": "2017-10-19T08:11:26.639087Z",
     "start_time": "2017-10-19T08:11:25.782Z"
    },
    "collapsed": false
   },
   "outputs": [],
   "source": [
    "upsell_df"
   ]
  },
  {
   "cell_type": "code",
   "execution_count": null,
   "metadata": {
    "ExecuteTime": {
     "end_time": "2017-10-19T08:11:26.639462Z",
     "start_time": "2017-10-19T08:11:25.810Z"
    },
    "collapsed": true
   },
   "outputs": [],
   "source": [
    "with open('viz/upsell.json', 'w') as outfile:\n",
    "    json.dump([row.to_dict() for ix, row in edges.iterrows()], outfile)"
   ]
  },
  {
   "cell_type": "code",
   "execution_count": null,
   "metadata": {
    "collapsed": true
   },
   "outputs": [],
   "source": []
  }
 ],
 "metadata": {
  "anaconda-cloud": {},
  "kernelspec": {
   "display_name": "Meralco PRES (pres)",
   "language": "python",
   "name": "pres"
  },
  "language_info": {
   "codemirror_mode": {
    "name": "ipython",
    "version": 3
   },
   "file_extension": ".py",
   "mimetype": "text/x-python",
   "name": "python",
   "nbconvert_exporter": "python",
   "pygments_lexer": "ipython3",
   "version": "3.6.1"
  },
  "toc": {
   "colors": {
    "hover_highlight": "#DAA520",
    "running_highlight": "#FF0000",
    "selected_highlight": "#FFD700"
   },
   "moveMenuLeft": true,
   "nav_menu": {},
   "navigate_menu": true,
   "number_sections": true,
   "sideBar": true,
   "skip_h1_title": false,
   "threshold": 4,
   "toc_cell": false,
   "toc_position": {},
   "toc_section_display": "block",
   "toc_window_display": false
  }
 },
 "nbformat": 4,
 "nbformat_minor": 2
}
