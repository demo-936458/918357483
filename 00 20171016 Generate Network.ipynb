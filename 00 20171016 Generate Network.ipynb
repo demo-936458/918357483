{
 "cells": [
  {
   "cell_type": "code",
   "execution_count": 1,
   "metadata": {
    "ExecuteTime": {
     "end_time": "2017-10-17T11:54:19.292489Z",
     "start_time": "2017-10-17T19:54:18.534501+08:00"
    },
    "collapsed": true
   },
   "outputs": [],
   "source": [
    "import networkx as nx\n",
    "import pandas as pd\n",
    "import itertools\n",
    "import json\n",
    "from IPython.display import display\n",
    "\n",
    "import matplotlib.pyplot as plt\n",
    "%matplotlib inline"
   ]
  },
  {
   "cell_type": "markdown",
   "metadata": {},
   "source": [
    "# Generate network"
   ]
  },
  {
   "cell_type": "code",
   "execution_count": 2,
   "metadata": {
    "ExecuteTime": {
     "end_time": "2017-10-17T11:54:19.308565Z",
     "start_time": "2017-10-17T19:54:19.296311+08:00"
    },
    "collapsed": false
   },
   "outputs": [
    {
     "data": {
      "text/html": [
       "<div>\n",
       "<style>\n",
       "    .dataframe thead tr:only-child th {\n",
       "        text-align: right;\n",
       "    }\n",
       "\n",
       "    .dataframe thead th {\n",
       "        text-align: left;\n",
       "    }\n",
       "\n",
       "    .dataframe tbody tr th {\n",
       "        vertical-align: top;\n",
       "    }\n",
       "</style>\n",
       "<table border=\"1\" class=\"dataframe\">\n",
       "  <thead>\n",
       "    <tr style=\"text-align: right;\">\n",
       "      <th></th>\n",
       "      <th>receipt</th>\n",
       "      <th>order</th>\n",
       "    </tr>\n",
       "  </thead>\n",
       "  <tbody>\n",
       "    <tr>\n",
       "      <th>0</th>\n",
       "      <td>0</td>\n",
       "      <td>1 pc chicken w/fries</td>\n",
       "    </tr>\n",
       "    <tr>\n",
       "      <th>1</th>\n",
       "      <td>0</td>\n",
       "      <td>1 pc. burger steak</td>\n",
       "    </tr>\n",
       "  </tbody>\n",
       "</table>\n",
       "</div>"
      ],
      "text/plain": [
       "   receipt                 order\n",
       "0        0  1 pc chicken w/fries\n",
       "1        0    1 pc. burger steak"
      ]
     },
     "execution_count": 2,
     "metadata": {},
     "output_type": "execute_result"
    }
   ],
   "source": [
    "df = pd.read_csv('../data/orders_generated.csv')\n",
    "df.columns = ['receipt', 'order']\n",
    "df.head(2)"
   ]
  },
  {
   "cell_type": "code",
   "execution_count": 3,
   "metadata": {
    "ExecuteTime": {
     "end_time": "2017-10-17T11:54:19.403040Z",
     "start_time": "2017-10-17T19:54:19.310558+08:00"
    },
    "collapsed": true
   },
   "outputs": [],
   "source": [
    "orders = df.drop_duplicates().groupby('receipt')['order'].apply(list).values"
   ]
  },
  {
   "cell_type": "code",
   "execution_count": 4,
   "metadata": {
    "ExecuteTime": {
     "end_time": "2017-10-17T11:54:19.415806Z",
     "start_time": "2017-10-17T19:54:19.404552+08:00"
    },
    "collapsed": false
   },
   "outputs": [],
   "source": [
    "G = nx.Graph()\n",
    "for order in orders:\n",
    "    for pair in itertools.combinations(order, 2):\n",
    "        try:\n",
    "            G[pair[0]][pair[1]]['weight'] += 1\n",
    "        except:\n",
    "            G.add_edge(pair[0], pair[1],weight=1)"
   ]
  },
  {
   "cell_type": "code",
   "execution_count": 5,
   "metadata": {
    "ExecuteTime": {
     "end_time": "2017-10-17T11:54:19.421055Z",
     "start_time": "2017-10-17T19:54:19.417501+08:00"
    },
    "collapsed": false
   },
   "outputs": [
    {
     "data": {
      "text/plain": [
       "[('1 pc chicken w/fries', '1 pc. burger steak', {'weight': 250}),\n",
       " ('1 pc chicken w/fries', 'coca-cola', {'weight': 250})]"
      ]
     },
     "execution_count": 5,
     "metadata": {},
     "output_type": "execute_result"
    }
   ],
   "source": [
    "G.edges(data=True)[:2]"
   ]
  },
  {
   "cell_type": "code",
   "execution_count": 6,
   "metadata": {
    "ExecuteTime": {
     "end_time": "2017-10-17T11:54:19.794698Z",
     "start_time": "2017-10-17T19:54:19.422397+08:00"
    },
    "collapsed": false
   },
   "outputs": [
    {
     "name": "stderr",
     "output_type": "stream",
     "text": [
      "/Users/jiah/anaconda/envs/pres/lib/python3.6/site-packages/networkx/drawing/nx_pylab.py:126: MatplotlibDeprecationWarning: pyplot.hold is deprecated.\n",
      "    Future behavior will be consistent with the long-time default:\n",
      "    plot commands add elements without first clearing the\n",
      "    Axes and/or Figure.\n",
      "  b = plt.ishold()\n",
      "/Users/jiah/anaconda/envs/pres/lib/python3.6/site-packages/networkx/drawing/nx_pylab.py:138: MatplotlibDeprecationWarning: pyplot.hold is deprecated.\n",
      "    Future behavior will be consistent with the long-time default:\n",
      "    plot commands add elements without first clearing the\n",
      "    Axes and/or Figure.\n",
      "  plt.hold(b)\n",
      "/Users/jiah/anaconda/envs/pres/lib/python3.6/site-packages/matplotlib/__init__.py:917: UserWarning: axes.hold is deprecated. Please remove it from your matplotlibrc and/or style files.\n",
      "  warnings.warn(self.msg_depr_set % key)\n",
      "/Users/jiah/anaconda/envs/pres/lib/python3.6/site-packages/matplotlib/rcsetup.py:152: UserWarning: axes.hold is deprecated, will be removed in 3.0\n",
      "  warnings.warn(\"axes.hold is deprecated, will be removed in 3.0\")\n"
     ]
    },
    {
     "data": {
      "image/png": "[encoded data removed]",
      "text/plain": [
       "<matplotlib.figure.Figure at 0x1091f7b70>"
      ]
     },
     "metadata": {},
     "output_type": "display_data"
    }
   ],
   "source": [
    "layout = nx.layout.spectral_layout(G)\n",
    "labels=nx.draw_networkx_labels(G, pos=layout, font_size=6)\n",
    "nx.draw(G, pos=layout) \n",
    "plt.gcf().set_size_inches(10,10)\n",
    "plt.gcf().set_dpi(100)"
   ]
  },
  {
   "cell_type": "code",
   "execution_count": 7,
   "metadata": {
    "ExecuteTime": {
     "end_time": "2017-10-17T11:54:19.800611Z",
     "start_time": "2017-10-17T19:54:19.796386+08:00"
    },
    "collapsed": true
   },
   "outputs": [],
   "source": [
    "nx.write_gml(G, '../data/orders.gml')"
   ]
  },
  {
   "cell_type": "markdown",
   "metadata": {},
   "source": [
    "## Create csv and json"
   ]
  },
  {
   "cell_type": "code",
   "execution_count": 8,
   "metadata": {
    "ExecuteTime": {
     "end_time": "2017-10-17T11:54:19.816817Z",
     "start_time": "2017-10-17T19:54:19.802259+08:00"
    },
    "collapsed": false
   },
   "outputs": [
    {
     "data": {
      "text/html": [
       "<div>\n",
       "<style>\n",
       "    .dataframe thead tr:only-child th {\n",
       "        text-align: right;\n",
       "    }\n",
       "\n",
       "    .dataframe thead th {\n",
       "        text-align: left;\n",
       "    }\n",
       "\n",
       "    .dataframe tbody tr th {\n",
       "        vertical-align: top;\n",
       "    }\n",
       "</style>\n",
       "<table border=\"1\" class=\"dataframe\">\n",
       "  <thead>\n",
       "    <tr style=\"text-align: right;\">\n",
       "      <th></th>\n",
       "      <th>frequency</th>\n",
       "      <th>expectation</th>\n",
       "    </tr>\n",
       "  </thead>\n",
       "  <tbody>\n",
       "    <tr>\n",
       "      <th>1 pc chicken w/fries</th>\n",
       "      <td>250</td>\n",
       "      <td>0.037959</td>\n",
       "    </tr>\n",
       "    <tr>\n",
       "      <th>1 pc. burger steak</th>\n",
       "      <td>444</td>\n",
       "      <td>0.067416</td>\n",
       "    </tr>\n",
       "    <tr>\n",
       "      <th>coca-cola</th>\n",
       "      <td>489</td>\n",
       "      <td>0.074248</td>\n",
       "    </tr>\n",
       "    <tr>\n",
       "      <th>5 pc. shanghai rolls w/rice</th>\n",
       "      <td>305</td>\n",
       "      <td>0.046310</td>\n",
       "    </tr>\n",
       "    <tr>\n",
       "      <th>pineapple juice</th>\n",
       "      <td>275</td>\n",
       "      <td>0.041755</td>\n",
       "    </tr>\n",
       "    <tr>\n",
       "      <th>1 pc chicken w/spaghetti</th>\n",
       "      <td>589</td>\n",
       "      <td>0.089432</td>\n",
       "    </tr>\n",
       "    <tr>\n",
       "      <th>water</th>\n",
       "      <td>549</td>\n",
       "      <td>0.083359</td>\n",
       "    </tr>\n",
       "    <tr>\n",
       "      <th>jolly hotdog</th>\n",
       "      <td>171</td>\n",
       "      <td>0.025964</td>\n",
       "    </tr>\n",
       "    <tr>\n",
       "      <th>2 pcs chicken w/rice</th>\n",
       "      <td>309</td>\n",
       "      <td>0.046918</td>\n",
       "    </tr>\n",
       "    <tr>\n",
       "      <th>peach mango pie</th>\n",
       "      <td>258</td>\n",
       "      <td>0.039174</td>\n",
       "    </tr>\n",
       "    <tr>\n",
       "      <th>palabok</th>\n",
       "      <td>141</td>\n",
       "      <td>0.021409</td>\n",
       "    </tr>\n",
       "    <tr>\n",
       "      <th>sprite</th>\n",
       "      <td>37</td>\n",
       "      <td>0.005618</td>\n",
       "    </tr>\n",
       "    <tr>\n",
       "      <th>fries</th>\n",
       "      <td>233</td>\n",
       "      <td>0.035378</td>\n",
       "    </tr>\n",
       "    <tr>\n",
       "      <th>iced tea</th>\n",
       "      <td>476</td>\n",
       "      <td>0.072275</td>\n",
       "    </tr>\n",
       "    <tr>\n",
       "      <th>Burger Steak Supreme</th>\n",
       "      <td>102</td>\n",
       "      <td>0.015487</td>\n",
       "    </tr>\n",
       "    <tr>\n",
       "      <th>1 pc chicken w/rice</th>\n",
       "      <td>197</td>\n",
       "      <td>0.029912</td>\n",
       "    </tr>\n",
       "    <tr>\n",
       "      <th>spaghetti</th>\n",
       "      <td>40</td>\n",
       "      <td>0.006073</td>\n",
       "    </tr>\n",
       "    <tr>\n",
       "      <th>1 pc chicken w/palabok</th>\n",
       "      <td>74</td>\n",
       "      <td>0.011236</td>\n",
       "    </tr>\n",
       "  </tbody>\n",
       "</table>\n",
       "</div>"
      ],
      "text/plain": [
       "                             frequency  expectation\n",
       "1 pc chicken w/fries               250     0.037959\n",
       "1 pc. burger steak                 444     0.067416\n",
       "coca-cola                          489     0.074248\n",
       "5 pc. shanghai rolls w/rice        305     0.046310\n",
       "pineapple juice                    275     0.041755\n",
       "1 pc chicken w/spaghetti           589     0.089432\n",
       "water                              549     0.083359\n",
       "jolly hotdog                       171     0.025964\n",
       "2 pcs chicken w/rice               309     0.046918\n",
       "peach mango pie                    258     0.039174\n",
       "palabok                            141     0.021409\n",
       "sprite                              37     0.005618\n",
       "fries                              233     0.035378\n",
       "iced tea                           476     0.072275\n",
       "Burger Steak Supreme               102     0.015487\n",
       "1 pc chicken w/rice                197     0.029912\n",
       "spaghetti                           40     0.006073\n",
       "1 pc chicken w/palabok              74     0.011236"
      ]
     },
     "execution_count": 8,
     "metadata": {},
     "output_type": "execute_result"
    }
   ],
   "source": [
    "item = pd.DataFrame(index=df['order'].unique())\n",
    "item['frequency'] = df.drop_duplicates()['order'].value_counts()\n",
    "item['expectation'] = item['frequency']/len(df)\n",
    "item"
   ]
  },
  {
   "cell_type": "code",
   "execution_count": 9,
   "metadata": {
    "ExecuteTime": {
     "end_time": "2017-10-17T11:54:19.822776Z",
     "start_time": "2017-10-17T19:54:19.818356+08:00"
    },
    "collapsed": true
   },
   "outputs": [],
   "source": [
    "edges = pd.DataFrame(G.edges(data=True))\n",
    "edges.columns = ['item1', 'item2', 'weight']\n",
    "edges['weight'] = edges.weight.apply(lambda x: x['weight'])"
   ]
  },
  {
   "cell_type": "code",
   "execution_count": 10,
   "metadata": {
    "ExecuteTime": {
     "end_time": "2017-10-17T11:54:19.837172Z",
     "start_time": "2017-10-17T19:54:19.824542+08:00"
    },
    "collapsed": false
   },
   "outputs": [],
   "source": [
    "pA_pB = (edges.item1.apply(lambda x: item.loc[x, 'expectation']) * \n",
    "         edges.item2.apply(lambda x: item.loc[x, 'expectation']))\n",
    "edges['norm_weight'] = pA_pB/edges.weight\n",
    "edges['norm_weight_item1'] = edges.weight / edges.item1.apply(lambda x: item.loc[x, 'frequency'])\n",
    "edges['norm_weight_item2'] = edges.weight / edges.item2.apply(lambda x: item.loc[x, 'frequency'])"
   ]
  },
  {
   "cell_type": "code",
   "execution_count": 11,
   "metadata": {
    "ExecuteTime": {
     "end_time": "2017-10-17T11:54:19.843790Z",
     "start_time": "2017-10-17T19:54:19.838864+08:00"
    },
    "collapsed": false
   },
   "outputs": [],
   "source": [
    "edges.to_csv('../data/jbee_small_network.csv', index=False)"
   ]
  },
  {
   "cell_type": "code",
   "execution_count": 12,
   "metadata": {
    "ExecuteTime": {
     "end_time": "2017-10-17T11:54:19.851792Z",
     "start_time": "2017-10-17T19:54:19.846299+08:00"
    },
    "collapsed": false
   },
   "outputs": [
    {
     "data": {
      "text/plain": [
       "'{\"0\":{\"item1\":\"1 pc chicken w\\\\/fries\",\"item2\":\"1 pc. burger steak\",\"weight\":250,\"norm_weight\":0.0000102362,\"norm_weight_item1\":1.0,\"norm_weight_item2\":0.5630630631},\"1\":{\"item1\":\"1 pc chicken w\\\\/fries\",\"item2\":\"coca-cola\",\"weight\":250,\"norm_weight\":0.0000112737,\"norm_weight_item1\":1.0,\"norm_weight_item2\":0.5112474438}}'"
      ]
     },
     "execution_count": 12,
     "metadata": {},
     "output_type": "execute_result"
    }
   ],
   "source": [
    "edges.head(2).T.to_json()"
   ]
  },
  {
   "cell_type": "code",
   "execution_count": 13,
   "metadata": {
    "ExecuteTime": {
     "end_time": "2017-10-17T11:54:19.857967Z",
     "start_time": "2017-10-17T19:54:19.853369+08:00"
    },
    "collapsed": false
   },
   "outputs": [
    {
     "data": {
      "text/plain": [
       "'[\"{\\\\\"item1\\\\\":\\\\\"1 pc chicken w\\\\\\\\/fries\\\\\",\\\\\"item2\\\\\":\\\\\"1 pc. burger steak\\\\\",\\\\\"weight\\\\\":250,\\\\\"norm_weight\\\\\":0.0000102362,\\\\\"norm_weight_item1\\\\\":1.0,\\\\\"norm_weight_item2\\\\\":0.5630630631}\", \"{\\\\\"item1\\\\\":\\\\\"1 pc chicken w\\\\\\\\/fries\\\\\",\\\\\"item2\\\\\":\\\\\"coca-cola\\\\\",\\\\\"weight\\\\\":250,\\\\\"norm_weight\\\\\":0.0000112737,\\\\\"norm_weight_item1\\\\\":1.0,\\\\\"norm_weight_item2\\\\\":0.5112474438}\"]'"
      ]
     },
     "execution_count": 13,
     "metadata": {},
     "output_type": "execute_result"
    }
   ],
   "source": [
    "json.dumps([(row.to_json()) for ix, row in edges.head(2).iterrows()])"
   ]
  },
  {
   "cell_type": "code",
   "execution_count": 14,
   "metadata": {
    "ExecuteTime": {
     "end_time": "2017-10-17T11:54:19.884930Z",
     "start_time": "2017-10-17T19:54:19.860637+08:00"
    },
    "collapsed": true
   },
   "outputs": [],
   "source": [
    "f = open('../data/jbee_small_network.json', 'w')\n",
    "f.writelines(str([row.to_json() for ix, row in edges.iterrows()]))\n",
    "f.close()"
   ]
  },
  {
   "cell_type": "code",
   "execution_count": 15,
   "metadata": {
    "ExecuteTime": {
     "end_time": "2017-10-17T11:54:19.899415Z",
     "start_time": "2017-10-17T19:54:19.887379+08:00"
    },
    "collapsed": false
   },
   "outputs": [
    {
     "data": {
      "text/html": [
       "<div>\n",
       "<style>\n",
       "    .dataframe thead tr:only-child th {\n",
       "        text-align: right;\n",
       "    }\n",
       "\n",
       "    .dataframe thead th {\n",
       "        text-align: left;\n",
       "    }\n",
       "\n",
       "    .dataframe tbody tr th {\n",
       "        vertical-align: top;\n",
       "    }\n",
       "</style>\n",
       "<table border=\"1\" class=\"dataframe\">\n",
       "  <thead>\n",
       "    <tr style=\"text-align: right;\">\n",
       "      <th></th>\n",
       "      <th>item1</th>\n",
       "      <th>item2</th>\n",
       "      <th>weight</th>\n",
       "      <th>norm_weight</th>\n",
       "      <th>norm_weight_item1</th>\n",
       "      <th>norm_weight_item2</th>\n",
       "    </tr>\n",
       "  </thead>\n",
       "  <tbody>\n",
       "    <tr>\n",
       "      <th>0</th>\n",
       "      <td>1 pc chicken w/fries</td>\n",
       "      <td>1 pc. burger steak</td>\n",
       "      <td>250</td>\n",
       "      <td>0.000010</td>\n",
       "      <td>1.0</td>\n",
       "      <td>0.563063</td>\n",
       "    </tr>\n",
       "    <tr>\n",
       "      <th>1</th>\n",
       "      <td>1 pc chicken w/fries</td>\n",
       "      <td>coca-cola</td>\n",
       "      <td>250</td>\n",
       "      <td>0.000011</td>\n",
       "      <td>1.0</td>\n",
       "      <td>0.511247</td>\n",
       "    </tr>\n",
       "  </tbody>\n",
       "</table>\n",
       "</div>"
      ],
      "text/plain": [
       "                  item1               item2  weight  norm_weight  \\\n",
       "0  1 pc chicken w/fries  1 pc. burger steak     250     0.000010   \n",
       "1  1 pc chicken w/fries           coca-cola     250     0.000011   \n",
       "\n",
       "   norm_weight_item1  norm_weight_item2  \n",
       "0                1.0           0.563063  \n",
       "1                1.0           0.511247  "
      ]
     },
     "execution_count": 15,
     "metadata": {},
     "output_type": "execute_result"
    }
   ],
   "source": [
    "edges.head(2)"
   ]
  },
  {
   "cell_type": "markdown",
   "metadata": {},
   "source": [
    "# Upsell"
   ]
  },
  {
   "cell_type": "code",
   "execution_count": 16,
   "metadata": {
    "ExecuteTime": {
     "end_time": "2017-10-17T11:54:19.921036Z",
     "start_time": "2017-10-17T19:54:19.901114+08:00"
    },
    "collapsed": false
   },
   "outputs": [
    {
     "data": {
      "text/html": [
       "<div>\n",
       "<style>\n",
       "    .dataframe thead tr:only-child th {\n",
       "        text-align: right;\n",
       "    }\n",
       "\n",
       "    .dataframe thead th {\n",
       "        text-align: left;\n",
       "    }\n",
       "\n",
       "    .dataframe tbody tr th {\n",
       "        vertical-align: top;\n",
       "    }\n",
       "</style>\n",
       "<table border=\"1\" class=\"dataframe\">\n",
       "  <thead>\n",
       "    <tr style=\"text-align: right;\">\n",
       "      <th></th>\n",
       "      <th>item</th>\n",
       "      <th>pair</th>\n",
       "      <th>weight</th>\n",
       "      <th>upsell</th>\n",
       "    </tr>\n",
       "  </thead>\n",
       "  <tbody>\n",
       "    <tr>\n",
       "      <th>108</th>\n",
       "      <td>2 pcs chicken w/rice</td>\n",
       "      <td>peach mango pie</td>\n",
       "      <td>227</td>\n",
       "      <td>0.734628</td>\n",
       "    </tr>\n",
       "    <tr>\n",
       "      <th>64</th>\n",
       "      <td>2 pcs chicken w/rice</td>\n",
       "      <td>pineapple juice</td>\n",
       "      <td>204</td>\n",
       "      <td>0.660194</td>\n",
       "    </tr>\n",
       "    <tr>\n",
       "      <th>112</th>\n",
       "      <td>2 pcs chicken w/rice</td>\n",
       "      <td>iced tea</td>\n",
       "      <td>183</td>\n",
       "      <td>0.592233</td>\n",
       "    </tr>\n",
       "    <tr>\n",
       "      <th>77</th>\n",
       "      <td>2 pcs chicken w/rice</td>\n",
       "      <td>1 pc chicken w/spaghetti</td>\n",
       "      <td>176</td>\n",
       "      <td>0.569579</td>\n",
       "    </tr>\n",
       "    <tr>\n",
       "      <th>88</th>\n",
       "      <td>2 pcs chicken w/rice</td>\n",
       "      <td>water</td>\n",
       "      <td>173</td>\n",
       "      <td>0.559871</td>\n",
       "    </tr>\n",
       "    <tr>\n",
       "      <th>37</th>\n",
       "      <td>2 pcs chicken w/rice</td>\n",
       "      <td>coca-cola</td>\n",
       "      <td>170</td>\n",
       "      <td>0.550162</td>\n",
       "    </tr>\n",
       "    <tr>\n",
       "      <th>21</th>\n",
       "      <td>2 pcs chicken w/rice</td>\n",
       "      <td>1 pc. burger steak</td>\n",
       "      <td>131</td>\n",
       "      <td>0.423948</td>\n",
       "    </tr>\n",
       "    <tr>\n",
       "      <th>50</th>\n",
       "      <td>2 pcs chicken w/rice</td>\n",
       "      <td>5 pc. shanghai rolls w/rice</td>\n",
       "      <td>91</td>\n",
       "      <td>0.294498</td>\n",
       "    </tr>\n",
       "    <tr>\n",
       "      <th>111</th>\n",
       "      <td>2 pcs chicken w/rice</td>\n",
       "      <td>fries</td>\n",
       "      <td>73</td>\n",
       "      <td>0.236246</td>\n",
       "    </tr>\n",
       "    <tr>\n",
       "      <th>5</th>\n",
       "      <td>2 pcs chicken w/rice</td>\n",
       "      <td>1 pc chicken w/fries</td>\n",
       "      <td>73</td>\n",
       "      <td>0.236246</td>\n",
       "    </tr>\n",
       "    <tr>\n",
       "      <th>113</th>\n",
       "      <td>2 pcs chicken w/rice</td>\n",
       "      <td>1 pc chicken w/rice</td>\n",
       "      <td>60</td>\n",
       "      <td>0.194175</td>\n",
       "    </tr>\n",
       "    <tr>\n",
       "      <th>98</th>\n",
       "      <td>2 pcs chicken w/rice</td>\n",
       "      <td>jolly hotdog</td>\n",
       "      <td>59</td>\n",
       "      <td>0.190939</td>\n",
       "    </tr>\n",
       "    <tr>\n",
       "      <th>109</th>\n",
       "      <td>2 pcs chicken w/rice</td>\n",
       "      <td>palabok</td>\n",
       "      <td>45</td>\n",
       "      <td>0.145631</td>\n",
       "    </tr>\n",
       "    <tr>\n",
       "      <th>114</th>\n",
       "      <td>2 pcs chicken w/rice</td>\n",
       "      <td>Burger Steak Supreme</td>\n",
       "      <td>34</td>\n",
       "      <td>0.110032</td>\n",
       "    </tr>\n",
       "    <tr>\n",
       "      <th>116</th>\n",
       "      <td>2 pcs chicken w/rice</td>\n",
       "      <td>1 pc chicken w/palabok</td>\n",
       "      <td>28</td>\n",
       "      <td>0.090615</td>\n",
       "    </tr>\n",
       "    <tr>\n",
       "      <th>110</th>\n",
       "      <td>2 pcs chicken w/rice</td>\n",
       "      <td>sprite</td>\n",
       "      <td>10</td>\n",
       "      <td>0.032362</td>\n",
       "    </tr>\n",
       "    <tr>\n",
       "      <th>115</th>\n",
       "      <td>2 pcs chicken w/rice</td>\n",
       "      <td>spaghetti</td>\n",
       "      <td>9</td>\n",
       "      <td>0.029126</td>\n",
       "    </tr>\n",
       "  </tbody>\n",
       "</table>\n",
       "</div>"
      ],
      "text/plain": [
       "                     item                         pair  weight    upsell\n",
       "108  2 pcs chicken w/rice              peach mango pie     227  0.734628\n",
       "64   2 pcs chicken w/rice              pineapple juice     204  0.660194\n",
       "112  2 pcs chicken w/rice                     iced tea     183  0.592233\n",
       "77   2 pcs chicken w/rice     1 pc chicken w/spaghetti     176  0.569579\n",
       "88   2 pcs chicken w/rice                        water     173  0.559871\n",
       "37   2 pcs chicken w/rice                    coca-cola     170  0.550162\n",
       "21   2 pcs chicken w/rice           1 pc. burger steak     131  0.423948\n",
       "50   2 pcs chicken w/rice  5 pc. shanghai rolls w/rice      91  0.294498\n",
       "111  2 pcs chicken w/rice                        fries      73  0.236246\n",
       "5    2 pcs chicken w/rice         1 pc chicken w/fries      73  0.236246\n",
       "113  2 pcs chicken w/rice          1 pc chicken w/rice      60  0.194175\n",
       "98   2 pcs chicken w/rice                 jolly hotdog      59  0.190939\n",
       "109  2 pcs chicken w/rice                      palabok      45  0.145631\n",
       "114  2 pcs chicken w/rice         Burger Steak Supreme      34  0.110032\n",
       "116  2 pcs chicken w/rice       1 pc chicken w/palabok      28  0.090615\n",
       "110  2 pcs chicken w/rice                       sprite      10  0.032362\n",
       "115  2 pcs chicken w/rice                    spaghetti       9  0.029126"
      ]
     },
     "metadata": {},
     "output_type": "display_data"
    }
   ],
   "source": [
    "item0 = '2 pcs chicken w/rice'\n",
    "def show_upsell(item0):\n",
    "    p1 = edges[edges.item1==item0].loc[:,['item1', 'item2', 'weight', 'norm_weight_item1']]\n",
    "    p2 = edges[edges.item2==item0].loc[:,['item2', 'item1', 'weight', 'norm_weight_item2']]\n",
    "    p1.columns = ['item', 'pair', 'weight', 'upsell']\n",
    "    p2.columns = ['item', 'pair', 'weight', 'upsell']\n",
    "    p = pd.concat([p1,p2])\n",
    "    display(p.sort_values('upsell', ascending=False))\n",
    "show_upsell(item0)"
   ]
  },
  {
   "cell_type": "code",
   "execution_count": null,
   "metadata": {
    "collapsed": true
   },
   "outputs": [],
   "source": []
  }
 ],
 "metadata": {
  "anaconda-cloud": {},
  "kernelspec": {
   "display_name": "Meralco PRES (pres)",
   "language": "python",
   "name": "pres"
  },
  "language_info": {
   "codemirror_mode": {
    "name": "ipython",
    "version": 3
   },
   "file_extension": ".py",
   "mimetype": "text/x-python",
   "name": "python",
   "nbconvert_exporter": "python",
   "pygments_lexer": "ipython3",
   "version": "3.6.1"
  },
  "toc": {
   "colors": {
    "hover_highlight": "#DAA520",
    "running_highlight": "#FF0000",
    "selected_highlight": "#FFD700"
   },
   "moveMenuLeft": true,
   "nav_menu": {
    "height": "12px",
    "width": "252px"
   },
   "navigate_menu": true,
   "number_sections": true,
   "sideBar": true,
   "threshold": 4,
   "toc_cell": false,
   "toc_section_display": "block",
   "toc_window_display": false
  }
 },
 "nbformat": 4,
 "nbformat_minor": 1
}
